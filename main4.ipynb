{
 "cells": [
  {
   "cell_type": "markdown",
   "id": "1d54fb69-6fcf-40a4-b660-01f36560c99e",
   "metadata": {},
   "source": [
    "## Python Programming Basics Part 1"
   ]
  },
  {
   "cell_type": "markdown",
   "id": "51d7c525-1e30-47d1-8695-fd0ad2ca86ac",
   "metadata": {},
   "source": [
    "### Lesson 5 Working with Lists"
   ]
  },
  {
   "cell_type": "markdown",
   "id": "d40422e4-33b1-436b-b523-2a8f59379cb6",
   "metadata": {},
   "source": [
    "### Lists are Ordered Iterable Object and can contain any data type it can"
   ]
  },
  {
   "cell_type": "markdown",
   "id": "f9b0bfc4-86c7-448f-b729-271372b346e5",
   "metadata": {},
   "source": [
    "#### Ordered :  Elements have fixed Position\n",
    "#### Stores Duplicate Values and different data types`"
   ]
  },
  {
   "cell_type": "markdown",
   "id": "f508b21e-693c-4b2b-804f-8a61f6a34a28",
   "metadata": {},
   "source": [
    "#### Creation of List and Printing List"
   ]
  },
  {
   "cell_type": "code",
   "execution_count": 1,
   "id": "cba2c9aa-d5de-484c-a388-cb10fbc39bee",
   "metadata": {},
   "outputs": [
    {
     "name": "stdout",
     "output_type": "stream",
     "text": [
      "['apples', 'oranges', 'banana']\n"
     ]
    }
   ],
   "source": [
    "fruits = [\"apples\",\"oranges\",\"banana\"]\n",
    "print(fruits)"
   ]
  },
  {
   "cell_type": "markdown",
   "id": "e8a338e5-8b4f-40d1-9f7a-31bfd300418b",
   "metadata": {},
   "source": [
    "#### Iterable Object : Collections that can be looped over and can be accessed one by one "
   ]
  },
  {
   "cell_type": "markdown",
   "id": "8ac13b3d-d25e-43c9-94f8-b13fafb4ca7e",
   "metadata": {},
   "source": [
    "Strings and Lists are iterable as they can be accessed one by one in loop"
   ]
  },
  {
   "cell_type": "code",
   "execution_count": 2,
   "id": "ebdabb2b-5f8f-4c45-b4ec-d551348e7c5d",
   "metadata": {},
   "outputs": [
    {
     "name": "stdout",
     "output_type": "stream",
     "text": [
      "apples\n",
      "oranges\n",
      "banana\n"
     ]
    }
   ],
   "source": [
    "fruits = [\"apples\",\"oranges\",\"banana\"]\n",
    "for fruit in fruits:\n",
    "    print(fruit)"
   ]
  },
  {
   "cell_type": "code",
   "execution_count": 3,
   "id": "0d60301c-5a0f-4fbd-953c-dc9c22f6032c",
   "metadata": {},
   "outputs": [
    {
     "name": "stdout",
     "output_type": "stream",
     "text": [
      "5\n"
     ]
    }
   ],
   "source": [
    "# Length of List \n",
    "sample = [1,2,3,4,5]\n",
    "print(len(sample))"
   ]
  },
  {
   "cell_type": "code",
   "execution_count": 4,
   "id": "5ab4cfe6-13a0-4eab-ac86-8b131a8cfc31",
   "metadata": {},
   "outputs": [
    {
     "name": "stdout",
     "output_type": "stream",
     "text": [
      "[] []\n"
     ]
    }
   ],
   "source": [
    "# ways to Create Empty List \n",
    "empty_list1 = []\n",
    "empty_list2 = list()\n",
    "print(empty_list1,empty_list2)"
   ]
  },
  {
   "cell_type": "code",
   "execution_count": 5,
   "id": "c36caecc-3155-475c-a129-b1b2e17945d4",
   "metadata": {},
   "outputs": [
    {
     "data": {
      "text/plain": [
       "[1, 'papaya', 2, 1]"
      ]
     },
     "execution_count": 5,
     "metadata": {},
     "output_type": "execute_result"
    }
   ],
   "source": [
    "# different data types and duplicates \n",
    "lst = [1,\"papaya\",2,1]\n",
    "lst"
   ]
  },
  {
   "cell_type": "code",
   "execution_count": 6,
   "id": "a834e04a-2874-4cc1-a92e-a779f7f81c12",
   "metadata": {},
   "outputs": [
    {
     "name": "stdout",
     "output_type": "stream",
     "text": [
      "1 5\n"
     ]
    }
   ],
   "source": [
    "# To Access Element of index you need to use square brackets within index \n",
    "#lst[index] where index range from 0 to len(lst)-1\n",
    "lst = [1,2,3,4,5]\n",
    "print(lst[0],lst[len(lst)-1])"
   ]
  },
  {
   "cell_type": "markdown",
   "id": "904154df-a56d-42a0-b89e-7d3f9bd242a2",
   "metadata": {},
   "source": [
    "#### Index Error and Type Error"
   ]
  },
  {
   "cell_type": "code",
   "execution_count": 7,
   "id": "72c957e5-ba88-40d9-b83c-d0e5916f18e1",
   "metadata": {},
   "outputs": [
    {
     "name": "stdout",
     "output_type": "stream",
     "text": [
      "['bn', 1, 3, 'banana']\n"
     ]
    }
   ],
   "source": [
    "# list is mutable\n",
    "lst = [\"apples\",1,3,\"banana\"]\n",
    "lst[0] =\"bn\"\n",
    "print(lst)"
   ]
  },
  {
   "cell_type": "code",
   "execution_count": 8,
   "id": "23e087e5-a735-4388-8312-a158fc00bcbc",
   "metadata": {},
   "outputs": [
    {
     "ename": "TypeError",
     "evalue": "'str' object does not support item assignment",
     "output_type": "error",
     "traceback": [
      "\u001b[31m---------------------------------------------------------------------------\u001b[39m",
      "\u001b[31mTypeError\u001b[39m                                 Traceback (most recent call last)",
      "\u001b[36mCell\u001b[39m\u001b[36m \u001b[39m\u001b[32mIn[8]\u001b[39m\u001b[32m, line 3\u001b[39m\n\u001b[32m      1\u001b[39m \u001b[38;5;66;03m# String is immutable if You try to change index position characters throws Type Error\u001b[39;00m\n\u001b[32m      2\u001b[39m example = \u001b[33m\"\u001b[39m\u001b[33mHello\u001b[39m\u001b[33m\"\u001b[39m\n\u001b[32m----> \u001b[39m\u001b[32m3\u001b[39m \u001b[43mexample\u001b[49m\u001b[43m[\u001b[49m\u001b[32;43m0\u001b[39;49m\u001b[43m]\u001b[49m = \u001b[33m\"\u001b[39m\u001b[33mh\u001b[39m\u001b[33m\"\u001b[39m\n",
      "\u001b[31mTypeError\u001b[39m: 'str' object does not support item assignment"
     ]
    }
   ],
   "source": [
    "# String is immutable if You try to change index position characters throws Type Error\n",
    "example = \"Hello\"\n",
    "example[0] = \"h\"\n"
   ]
  },
  {
   "cell_type": "code",
   "execution_count": null,
   "id": "bde76643-fa90-40f0-b58f-545ce144698d",
   "metadata": {},
   "outputs": [],
   "source": [
    "# If the Index above len(lst) - 1  throws Index Error For both Strings and List\n",
    "example = \"Hello\"\n",
    "# print(example[5]) It Will Throw Index Error\n",
    "print(example[4])"
   ]
  },
  {
   "cell_type": "code",
   "execution_count": null,
   "id": "ff098a06-5460-4c99-8250-1a1ecddb36f8",
   "metadata": {},
   "outputs": [],
   "source": [
    "# Negative index should range from -1 to len(lst) else Index Error\n",
    "example = \"Hello\"\n",
    "print(example[-1],example[-len(example)])"
   ]
  },
  {
   "cell_type": "markdown",
   "id": "501f72e0-6a4a-4a98-94ea-690dde4c1c56",
   "metadata": {},
   "source": [
    "### Sorting a List"
   ]
  },
  {
   "cell_type": "code",
   "execution_count": 9,
   "id": "ecaae6ba-b102-416d-8267-a3c1331023b0",
   "metadata": {},
   "outputs": [
    {
     "name": "stdout",
     "output_type": "stream",
     "text": [
      "[1, 2, 3, 4, 5]\n"
     ]
    }
   ],
   "source": [
    "numbers = [5,4,3,2,1]\n",
    "# inplace sort a list by sort() method chnages original one\n",
    "numbers.sort()\n",
    "print(numbers)"
   ]
  },
  {
   "cell_type": "code",
   "execution_count": 10,
   "id": "f03cfe34-f5cf-4f4b-a259-774a692410ac",
   "metadata": {},
   "outputs": [
    {
     "data": {
      "text/plain": [
       "[1, 2, 3, 4, 5]"
      ]
     },
     "execution_count": 10,
     "metadata": {},
     "output_type": "execute_result"
    }
   ],
   "source": [
    "numbers = [5,4,3,2,1]\n",
    "# sort and returns the new  list by using sorted() method\n",
    "sorted(numbers)"
   ]
  },
  {
   "cell_type": "code",
   "execution_count": 11,
   "id": "0732f8d1-d781-4ab3-92f6-95375edbc9b3",
   "metadata": {},
   "outputs": [
    {
     "name": "stdout",
     "output_type": "stream",
     "text": [
      "[5, 4, 3, 2, 1]\n",
      "[9, 8, 7, 6, 0]\n"
     ]
    }
   ],
   "source": [
    "# sort in decesending order \n",
    "numbers = [5,4,3,2,1]\n",
    "lst = [6,7,8,9,0]\n",
    "numbers.sort(reverse=True)\n",
    "print(numbers)\n",
    "print(sorted(lst,reverse=True))"
   ]
  },
  {
   "cell_type": "code",
   "execution_count": 12,
   "id": "dfc39162-087e-43d5-84df-c82628a4956f",
   "metadata": {},
   "outputs": [
    {
     "ename": "TypeError",
     "evalue": "'<' not supported between instances of 'int' and 'str'",
     "output_type": "error",
     "traceback": [
      "\u001b[31m---------------------------------------------------------------------------\u001b[39m",
      "\u001b[31mTypeError\u001b[39m                                 Traceback (most recent call last)",
      "\u001b[36mCell\u001b[39m\u001b[36m \u001b[39m\u001b[32mIn[12]\u001b[39m\u001b[32m, line 4\u001b[39m\n\u001b[32m      1\u001b[39m \u001b[38;5;66;03m# Causes of Type Error \u001b[39;00m\n\u001b[32m      2\u001b[39m \u001b[38;5;66;03m# Example List contains both strings and integer\u001b[39;00m\n\u001b[32m      3\u001b[39m lst = [\u001b[33m\"\u001b[39m\u001b[33manimal\u001b[39m\u001b[33m\"\u001b[39m,\u001b[32m1\u001b[39m,\u001b[32m2\u001b[39m,\u001b[33m\"\u001b[39m\u001b[33mbanan\u001b[39m\u001b[33m\"\u001b[39m]\n\u001b[32m----> \u001b[39m\u001b[32m4\u001b[39m \u001b[43mlst\u001b[49m\u001b[43m.\u001b[49m\u001b[43msort\u001b[49m\u001b[43m(\u001b[49m\u001b[43m)\u001b[49m \n",
      "\u001b[31mTypeError\u001b[39m: '<' not supported between instances of 'int' and 'str'"
     ]
    }
   ],
   "source": [
    "# Causes of Type Error \n",
    "# Example List contains both strings and integer\n",
    "lst = [\"animal\",1,2,\"banan\"]\n",
    "lst.sort() "
   ]
  },
  {
   "cell_type": "code",
   "execution_count": 13,
   "id": "aa7cc991-5f0c-4218-b216-43a57131aff9",
   "metadata": {},
   "outputs": [
    {
     "name": "stdout",
     "output_type": "stream",
     "text": [
      "['apples', 'banana', 'grapes', 'guava']\n"
     ]
    }
   ],
   "source": [
    "# sort strings \n",
    "fruits = [\"banana\",\"grapes\",\"apples\",\"guava\"]\n",
    "fruits.sort()\n",
    "print(fruits)"
   ]
  },
  {
   "cell_type": "code",
   "execution_count": 14,
   "id": "4963fd95-580c-401c-a3b1-0340a1598a8e",
   "metadata": {},
   "outputs": [
    {
     "name": "stdout",
     "output_type": "stream",
     "text": [
      "['', 'a', 'aa', 'abcd', 'fghjk']\n"
     ]
    }
   ],
   "source": [
    "# sort the list based on key\n",
    "lst = [\"abcd\",\"a\",\"aa\",\"\",\"fghjk\"]\n",
    "lst.sort(key=len) # based on length \n",
    "print(lst)"
   ]
  },
  {
   "cell_type": "code",
   "execution_count": 15,
   "id": "14705925-5b2d-4a41-bf88-f550535a80ef",
   "metadata": {},
   "outputs": [
    {
     "name": "stdout",
     "output_type": "stream",
     "text": [
      "[3, 4, 100, 345, 1000]\n"
     ]
    }
   ],
   "source": [
    "def fun(x):\n",
    "    return int(x**2) - 1\n",
    "lst = [100,1000,3,4,345]\n",
    "lst.sort(key=fun)\n",
    "print(lst)"
   ]
  },
  {
   "cell_type": "code",
   "execution_count": 16,
   "id": "4ce473bb-cd0b-4524-aea2-09bc65878ccb",
   "metadata": {},
   "outputs": [
    {
     "data": {
      "text/plain": [
       "[200, 100, 5, 4, 3, 1]"
      ]
     },
     "execution_count": 16,
     "metadata": {},
     "output_type": "execute_result"
    }
   ],
   "source": [
    "def fun(x):\n",
    "    return -x+1\n",
    "lst = [100,200,1,3,4,5]\n",
    "lst.sort(key=fun)\n",
    "lst"
   ]
  },
  {
   "cell_type": "code",
   "execution_count": 17,
   "id": "d9208524-a74c-4615-be80-d96982deea09",
   "metadata": {},
   "outputs": [
    {
     "name": "stdout",
     "output_type": "stream",
     "text": [
      "<list_reverseiterator object at 0x0000017C080AEB00>\n"
     ]
    }
   ],
   "source": [
    "# reverse and reversed \n",
    "lst = [1,2,3]\n",
    "print(reversed(lst)) # pay attention you will get result like this"
   ]
  },
  {
   "cell_type": "code",
   "execution_count": 18,
   "id": "6509edf1-abc7-4a9d-ad0a-804fad33bcbe",
   "metadata": {},
   "outputs": [
    {
     "name": "stdout",
     "output_type": "stream",
     "text": [
      "3\n",
      "2\n",
      "1\n"
     ]
    }
   ],
   "source": [
    "lst = [1,2,3]\n",
    "# reversed list\n",
    "for num in reversed(lst):\n",
    "    print(num)"
   ]
  },
  {
   "cell_type": "code",
   "execution_count": 19,
   "id": "eddff688-d933-4c4c-98e2-8a3321302029",
   "metadata": {},
   "outputs": [
    {
     "name": "stdout",
     "output_type": "stream",
     "text": [
      "[4, 2, 1]\n"
     ]
    }
   ],
   "source": [
    "# reverse inplace\n",
    "lst = [1,2,4]\n",
    "lst.reverse()\n",
    "print(lst)"
   ]
  },
  {
   "cell_type": "markdown",
   "id": "184bf96c-36e6-4410-ba1f-5c9dcef0c9be",
   "metadata": {},
   "source": [
    "### Sequence : Sequence is a data structure that can store multiple items in particular order"
   ]
  },
  {
   "cell_type": "markdown",
   "id": "231a4e16-afab-45aa-863d-10ba5f72ea77",
   "metadata": {},
   "source": [
    "#### Slicing [start:end:step]\n",
    "1)  start - > represents the start of the sequence\n",
    "2)  end - > represents first index that needs to be excluded\n",
    "3)  step -> jump needed for slicing"
   ]
  },
  {
   "cell_type": "code",
   "execution_count": null,
   "id": "17c43dfc-5de1-432f-bd86-258c29184580",
   "metadata": {},
   "outputs": [],
   "source": []
  },
  {
   "cell_type": "code",
   "execution_count": 20,
   "id": "8782b40f-cead-4350-8866-d6afcccab63d",
   "metadata": {},
   "outputs": [
    {
     "data": {
      "text/plain": [
       "[1, 2, 3, 4, 5, 6, 7, 8]"
      ]
     },
     "execution_count": 20,
     "metadata": {},
     "output_type": "execute_result"
    }
   ],
   "source": [
    "# slicing [:]\n",
    "# default start - > 0 , end -> len(lst) - 1 , step = 1\n",
    "a = [1,2,3,4,5,6,7,8]\n",
    "a[::]"
   ]
  },
  {
   "cell_type": "code",
   "execution_count": 21,
   "id": "648162a2-cd17-41ea-9295-875e19696758",
   "metadata": {},
   "outputs": [
    {
     "data": {
      "text/plain": [
       "[4, 5, 6, 7, 8]"
      ]
     },
     "execution_count": 21,
     "metadata": {},
     "output_type": "execute_result"
    }
   ],
   "source": [
    "# slicing [x:]\n",
    "a = [1,2,3,4,5,6,7,8]\n",
    "a[3:]"
   ]
  },
  {
   "cell_type": "code",
   "execution_count": 22,
   "id": "aba91b61-4b27-4b01-9933-93d806113439",
   "metadata": {},
   "outputs": [
    {
     "data": {
      "text/plain": [
       "[1, 2, 3]"
      ]
     },
     "execution_count": 22,
     "metadata": {},
     "output_type": "execute_result"
    }
   ],
   "source": [
    "# sicing[:x]\n",
    "a = [1,2,3,4,5,6,7,8]\n",
    "a[:3]"
   ]
  },
  {
   "cell_type": "code",
   "execution_count": 23,
   "id": "2422fd3c-7334-4eae-afe1-346b607a2634",
   "metadata": {},
   "outputs": [
    {
     "data": {
      "text/plain": [
       "[4, 5]"
      ]
     },
     "execution_count": 23,
     "metadata": {},
     "output_type": "execute_result"
    }
   ],
   "source": [
    "# slicing [x:y]\n",
    "a = [1,2,3,4,5,6,7,8]\n",
    "a[3:5]"
   ]
  },
  {
   "cell_type": "code",
   "execution_count": 24,
   "id": "cabca4f3-ede5-493b-a4a0-04c01a28d8a7",
   "metadata": {},
   "outputs": [
    {
     "data": {
      "text/plain": [
       "[1, 3, 5, 7]"
      ]
     },
     "execution_count": 24,
     "metadata": {},
     "output_type": "execute_result"
    }
   ],
   "source": [
    "# slicing [::step]\n",
    "a = [1,2,3,4,5,6,7,8]\n",
    "a[::2]"
   ]
  },
  {
   "cell_type": "code",
   "execution_count": 25,
   "id": "eac57a16-d556-4188-b3e7-97c01f86763f",
   "metadata": {},
   "outputs": [
    {
     "data": {
      "text/plain": [
       "[4, 6, 8]"
      ]
     },
     "execution_count": 25,
     "metadata": {},
     "output_type": "execute_result"
    }
   ],
   "source": [
    "# slicing [x::step]\n",
    "a = [1,2,3,4,5,6,7,8]\n",
    "a[3::2]"
   ]
  },
  {
   "cell_type": "code",
   "execution_count": 26,
   "id": "374f5398-3f3a-4d6d-b63f-f72f85685a4f",
   "metadata": {},
   "outputs": [
    {
     "data": {
      "text/plain": [
       "[1, 4]"
      ]
     },
     "execution_count": 26,
     "metadata": {},
     "output_type": "execute_result"
    }
   ],
   "source": [
    "# slcing [:x:step]\n",
    "a = [1,2,3,4,5,6,7,8]\n",
    "a[:5:3]"
   ]
  },
  {
   "cell_type": "code",
   "execution_count": 27,
   "id": "8e453547-943b-4a9c-92d7-1fd6f9383977",
   "metadata": {},
   "outputs": [
    {
     "data": {
      "text/plain": [
       "[4, 6, 8]"
      ]
     },
     "execution_count": 27,
     "metadata": {},
     "output_type": "execute_result"
    }
   ],
   "source": [
    "# slicing [x:y:step]\n",
    "a = [1,2,3,4,5,6,7,8]\n",
    "a[3:8:2]"
   ]
  },
  {
   "cell_type": "code",
   "execution_count": 29,
   "id": "9d32703a-1bdd-49ee-b2f9-1f72d853499d",
   "metadata": {},
   "outputs": [
    {
     "data": {
      "text/plain": [
       "[8, 7, 6, 5, 4, 3, 2, 1]"
      ]
     },
     "execution_count": 29,
     "metadata": {},
     "output_type": "execute_result"
    }
   ],
   "source": [
    "# negative slicing\n",
    "# reverse list[::-step]\n",
    "a = [1,2,3,4,5,6,7,8]\n",
    "a[::-1]"
   ]
  },
  {
   "cell_type": "code",
   "execution_count": 39,
   "id": "a3198804-dc2e-46dd-b58e-309abbbad485",
   "metadata": {},
   "outputs": [
    {
     "name": "stdout",
     "output_type": "stream",
     "text": [
      "[4, 2]\n",
      "[8, 7, 6, 5, 4, 3, 2, 1]\n"
     ]
    }
   ],
   "source": [
    "# slcing  [x::-step]  , slicing[:x:-step]\n",
    "a = [1,2,3,4,5,6,7,8]\n",
    "print(a[3::-2])\n",
    "print(a[7::-1])\n"
   ]
  },
  {
   "cell_type": "code",
   "execution_count": 40,
   "id": "99da4032-37d8-4238-a7b3-1b8d3ab92dd9",
   "metadata": {},
   "outputs": [
    {
     "data": {
      "text/plain": [
       "[8, 7, 6, 5]"
      ]
     },
     "execution_count": 40,
     "metadata": {},
     "output_type": "execute_result"
    }
   ],
   "source": [
    "# slcing [x:y:-step]\n",
    "a = [1,2,3,4,5,6,7,8]\n",
    "a[7:3:-1]"
   ]
  },
  {
   "cell_type": "markdown",
   "id": "778b52c5-75e8-4767-8f30-46e19334a904",
   "metadata": {},
   "source": [
    "### Nested Lists : List contains One Or More Lists as its elements"
   ]
  },
  {
   "cell_type": "code",
   "execution_count": 42,
   "id": "07ec773d-12ad-43e2-8466-728bed9f849d",
   "metadata": {},
   "outputs": [
    {
     "data": {
      "text/plain": [
       "1"
      ]
     },
     "execution_count": 42,
     "metadata": {},
     "output_type": "execute_result"
    }
   ],
   "source": [
    "# Creating and Accessing Nested Lists\n",
    "lst = [[1,2],[3,4]]\n",
    "lst[0][0]"
   ]
  },
  {
   "cell_type": "code",
   "execution_count": 43,
   "id": "7f2f8517-9933-47d4-9416-89dc79d5c6e1",
   "metadata": {},
   "outputs": [],
   "source": [
    "# Type Error -> Int Object not subscriptable \n",
    "# Index Error - > List Out Of range"
   ]
  },
  {
   "cell_type": "code",
   "execution_count": 44,
   "id": "37c5884c-cefd-41f6-b87f-456b76e658a0",
   "metadata": {},
   "outputs": [
    {
     "data": {
      "text/plain": [
       "[[1, 2, 3], [4, 5, 6], [7, 8, 9]]"
      ]
     },
     "execution_count": 44,
     "metadata": {},
     "output_type": "execute_result"
    }
   ],
   "source": [
    "# if the list lengths of all nested lists are same then called as matrix\n",
    "matrix = [[1,2,3],[4,5,6],[7,8,9]]\n",
    "matrix"
   ]
  },
  {
   "cell_type": "markdown",
   "id": "f4670fe8-d6ed-4625-b3ff-0450fed967fe",
   "metadata": {},
   "source": [
    "### List Comprehension\n",
    "Concise and Efficent way to Create a List from Iterable"
   ]
  },
  {
   "cell_type": "code",
   "execution_count": 46,
   "id": "a1a037ff-410b-42f1-af15-1f7016416b38",
   "metadata": {},
   "outputs": [
    {
     "name": "stdout",
     "output_type": "stream",
     "text": [
      "[0, 1, 4]\n"
     ]
    }
   ],
   "source": [
    "# 1 dimensional list\n",
    "lst = [x **2 for x in range(3)]\n",
    "print(lst)"
   ]
  },
  {
   "cell_type": "code",
   "execution_count": 54,
   "id": "4532505e-f8b7-4222-b4de-d08634e3da14",
   "metadata": {},
   "outputs": [
    {
     "data": {
      "text/plain": [
       "[[1, 2, 3], [2, 3, 4], [3, 4, 5]]"
      ]
     },
     "execution_count": 54,
     "metadata": {},
     "output_type": "execute_result"
    }
   ],
   "source": [
    "# 2 dimensional list \n",
    "lst = [[j+i for j in range(1,4)] for i in range(3)]\n",
    "lst"
   ]
  },
  {
   "cell_type": "code",
   "execution_count": 57,
   "id": "7bbbc0e1-3590-4933-a671-b204220dbe6b",
   "metadata": {},
   "outputs": [
    {
     "data": {
      "text/plain": [
       "[[1, 2, 3], [2, 3, 4], [3, 4, 5]]"
      ]
     },
     "execution_count": 57,
     "metadata": {},
     "output_type": "execute_result"
    }
   ],
   "source": [
    "# since it is more complex\n",
    "# We write more readable one \n",
    "lst = []\n",
    "for i in range(3):\n",
    "    lst.append([])\n",
    "    for j in range(1,4):\n",
    "        lst[i].append(j+i)\n",
    "lst\n",
    "        "
   ]
  },
  {
   "cell_type": "code",
   "execution_count": 58,
   "id": "ce7e638c-0da2-4c0e-bb07-c73f85d56456",
   "metadata": {},
   "outputs": [
    {
     "data": {
      "text/plain": [
       "['john', 'jolly', 'joker']"
      ]
     },
     "execution_count": 58,
     "metadata": {},
     "output_type": "execute_result"
    }
   ],
   "source": [
    "# with if\n",
    "lst = [\"ceaser\",\"john\",\"jolly\",\"joker\",\"Raven\"]\n",
    "new_lst = [ name for name in lst if name.startswith(\"j\")]\n",
    "new_lst"
   ]
  },
  {
   "cell_type": "code",
   "execution_count": 66,
   "id": "b5a1cda6-d23b-47a3-88f8-be10c98926d7",
   "metadata": {},
   "outputs": [
    {
     "name": "stdout",
     "output_type": "stream",
     "text": [
      "[2, 3, 5, 7, 11, 13, 17, 19, 23, 29, 31, 37, 41, 43, 47, 53, 59, 61, 67, 71, 73, 79, 83, 89, 97, 101, 103, 107, 109, 113, 127, 131, 137, 139, 149, 151, 157, 163, 167, 173, 179, 181, 191, 193, 197, 199, 211, 223, 227, 229, 233, 239, 241, 251, 257, 263, 269, 271, 277, 281, 283, 293, 307, 311, 313, 317, 331, 337, 347, 349, 353, 359, 367, 373, 379, 383, 389, 397, 401, 409, 419, 421, 431, 433, 439, 443, 449, 457, 461, 463, 467, 479, 487, 491, 499, 503, 509, 521, 523, 541, 547, 557, 563, 569, 571, 577, 587, 593, 599, 601, 607, 613, 617, 619, 631, 641, 643, 647, 653, 659, 661, 673, 677, 683, 691, 701, 709, 719, 727, 733, 739, 743, 751, 757, 761, 769, 773, 787, 797, 809, 811, 821, 823, 827, 829, 839, 853, 857, 859, 863, 877, 881, 883, 887, 907, 911, 919, 929, 937, 941, 947, 953, 967, 971, 977, 983, 991, 997]\n",
      "168\n"
     ]
    }
   ],
   "source": [
    "# with if example 2\n",
    "import math\n",
    "def isPrime(num:int):\n",
    "    if num <= 1:\n",
    "        return False\n",
    "    if num == 2:\n",
    "        return True\n",
    "    for i in range(2,int(math.sqrt(num))+1):\n",
    "        if num % i == 0:\n",
    "            return False\n",
    "    return True\n",
    "lst = [i for i in range(1000) if isPrime(i)]\n",
    "print(lst)\n",
    "print(len(lst))\n"
   ]
  },
  {
   "cell_type": "code",
   "execution_count": 67,
   "id": "89d9a2f3-cf62-4701-a6bf-203aa12798e9",
   "metadata": {},
   "outputs": [
    {
     "data": {
      "text/plain": [
       "[1, 0, 1, 0, 1, 0, 1, 0, 1, 0]"
      ]
     },
     "execution_count": 67,
     "metadata": {},
     "output_type": "execute_result"
    }
   ],
   "source": [
    "# with if else -> check out syntax \n",
    "a = [i+1 for i in range(10)]\n",
    "ans = [0 if num % 2 == 0 else 1 for num in a]\n",
    "ans"
   ]
  },
  {
   "cell_type": "code",
   "execution_count": null,
   "id": "e0bf8982-f6f8-4623-9c31-25f644eb8405",
   "metadata": {},
   "outputs": [],
   "source": [
    "\n"
   ]
  }
 ],
 "metadata": {
  "kernelspec": {
   "display_name": "Python 3 (ipykernel)",
   "language": "python",
   "name": "python3"
  },
  "language_info": {
   "codemirror_mode": {
    "name": "ipython",
    "version": 3
   },
   "file_extension": ".py",
   "mimetype": "text/x-python",
   "name": "python",
   "nbconvert_exporter": "python",
   "pygments_lexer": "ipython3",
   "version": "3.14.0"
  }
 },
 "nbformat": 4,
 "nbformat_minor": 5
}
