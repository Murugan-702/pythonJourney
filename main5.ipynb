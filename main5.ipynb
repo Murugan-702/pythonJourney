{
 "cells": [
  {
   "cell_type": "markdown",
   "id": "34c0d3bf-dc1f-4f14-b337-ea90b5829c1c",
   "metadata": {},
   "source": [
    "### Python Programming Part 1\n",
    "#### Lesson 6 : Operations of List , Basics of Algorithm"
   ]
  },
  {
   "cell_type": "markdown",
   "id": "a2adaa8c-eb7b-4094-8c1e-d75b43f13f19",
   "metadata": {},
   "source": [
    "### List is the Ordered Iterator of elements"
   ]
  },
  {
   "cell_type": "code",
   "execution_count": 1,
   "id": "310bd451-bc4e-43ac-bfb1-1475c6053f01",
   "metadata": {},
   "outputs": [
    {
     "data": {
      "text/plain": [
       "[1, 2, 3]"
      ]
     },
     "execution_count": 1,
     "metadata": {},
     "output_type": "execute_result"
    }
   ],
   "source": [
    "# Creating and printing list\n",
    "lst = [1,2,3]\n",
    "lst"
   ]
  },
  {
   "cell_type": "markdown",
   "id": "f9dc90e0-f86b-4ebc-97a6-09a95439c920",
   "metadata": {},
   "source": [
    "#### Adding Elements"
   ]
  },
  {
   "cell_type": "code",
   "execution_count": 3,
   "id": "97eec626-94ee-4e18-9069-d6891ea8659c",
   "metadata": {},
   "outputs": [
    {
     "name": "stdout",
     "output_type": "stream",
     "text": [
      "['apples', 'banana', 'grapes']\n"
     ]
    }
   ],
   "source": [
    "# This is dynamic collection means add and remove elements\n",
    "lst = []\n",
    "lst.append(\"apples\")\n",
    "lst.append(\"banana\")\n",
    "lst.append(\"grapes\")\n",
    "print(lst)"
   ]
  },
  {
   "cell_type": "code",
   "execution_count": 4,
   "id": "dd8e380e-7d6b-436a-926e-8e10485c6725",
   "metadata": {},
   "outputs": [
    {
     "data": {
      "text/plain": [
       "['apples', 'banana', 'grapes']"
      ]
     },
     "execution_count": 4,
     "metadata": {},
     "output_type": "execute_result"
    }
   ],
   "source": [
    "# Add Element to List \n",
    "lst = [] \n",
    "lst.append(\"apples\")\n",
    "lst.append(\"banana\")\n",
    "lst.append(\"grapes\")\n",
    "lst"
   ]
  },
  {
   "cell_type": "code",
   "execution_count": 7,
   "id": "aa853336-fc5e-452c-8a87-14ebbb523593",
   "metadata": {},
   "outputs": [
    {
     "name": "stdout",
     "output_type": "stream",
     "text": [
      "[12, 35, 66, 10]\n"
     ]
    }
   ],
   "source": [
    "# Extending List \n",
    "lst1 = [12,35,66]\n",
    "lst2 = [10]\n",
    "lst1.extend(lst2)\n",
    "print(lst1)"
   ]
  },
  {
   "cell_type": "code",
   "execution_count": 8,
   "id": "aadcec78-72ec-435b-8dd9-7e1848ff56d5",
   "metadata": {},
   "outputs": [
    {
     "name": "stdout",
     "output_type": "stream",
     "text": [
      "[13, 34, 56, 13]\n"
     ]
    }
   ],
   "source": [
    "# Adding List using addition operator\n",
    "lst1 = [13,34,56]\n",
    "lst2 = [13]\n",
    "lst = lst1 + lst2\n",
    "print(lst)"
   ]
  },
  {
   "cell_type": "code",
   "execution_count": 9,
   "id": "c9f70718-ce65-4b19-bd54-9e42c4633134",
   "metadata": {},
   "outputs": [
    {
     "name": "stdout",
     "output_type": "stream",
     "text": [
      "[13, 34, 56, 13]\n"
     ]
    }
   ],
   "source": [
    "# Adding using += operator\n",
    "lst1 = [13,34,56]\n",
    "lst2 = [13]\n",
    "lst1 +=lst2\n",
    "print(lst1)"
   ]
  },
  {
   "cell_type": "code",
   "execution_count": 1,
   "id": "22c11444-8442-469f-b96a-c2b7fa235709",
   "metadata": {},
   "outputs": [
    {
     "data": {
      "text/plain": [
       "[1, 2, 3, 1, 2, 3, 1, 2, 3]"
      ]
     },
     "execution_count": 1,
     "metadata": {},
     "output_type": "execute_result"
    }
   ],
   "source": [
    "# Role of Multiplication Operator\n",
    "lst1 = [1,2,3] # lst * x just return list with duplicate x times\n",
    "lst1  * 3"
   ]
  },
  {
   "cell_type": "markdown",
   "id": "da7f8d94-30ee-4fde-a013-cf41d67745b8",
   "metadata": {},
   "source": [
    "#### Removing Elements"
   ]
  },
  {
   "cell_type": "code",
   "execution_count": 3,
   "id": "6bde5ec5-fbf7-4683-a36c-e52b6fadc2f0",
   "metadata": {},
   "outputs": [
    {
     "name": "stdout",
     "output_type": "stream",
     "text": [
      "[1, 2]\n"
     ]
    }
   ],
   "source": [
    "# remove by key \n",
    "lst = [1,2,3]\n",
    "lst.remove(3)\n",
    "print(lst)"
   ]
  },
  {
   "cell_type": "code",
   "execution_count": 4,
   "id": "80c27085-251b-42bf-9a88-85f641631809",
   "metadata": {},
   "outputs": [
    {
     "ename": "ValueError",
     "evalue": "list.remove(x): x not in list",
     "output_type": "error",
     "traceback": [
      "\u001b[31m---------------------------------------------------------------------------\u001b[39m",
      "\u001b[31mValueError\u001b[39m                                Traceback (most recent call last)",
      "\u001b[36mCell\u001b[39m\u001b[36m \u001b[39m\u001b[32mIn[4]\u001b[39m\u001b[32m, line 3\u001b[39m\n\u001b[32m      1\u001b[39m \u001b[38;5;66;03m# Key not found \u001b[39;00m\n\u001b[32m      2\u001b[39m lst = [\u001b[32m1\u001b[39m,\u001b[32m2\u001b[39m,\u001b[32m3\u001b[39m]\n\u001b[32m----> \u001b[39m\u001b[32m3\u001b[39m \u001b[43mlst\u001b[49m\u001b[43m.\u001b[49m\u001b[43mremove\u001b[49m\u001b[43m(\u001b[49m\u001b[32;43m5\u001b[39;49m\u001b[43m)\u001b[49m\n",
      "\u001b[31mValueError\u001b[39m: list.remove(x): x not in list"
     ]
    }
   ],
   "source": [
    "# Key not found Value Error\n",
    "lst = [1,2,3]\n",
    "lst.remove(5)"
   ]
  },
  {
   "cell_type": "code",
   "execution_count": 5,
   "id": "49c81154-2a35-4552-8cd4-e467304d9788",
   "metadata": {},
   "outputs": [
    {
     "data": {
      "text/plain": [
       "True"
      ]
     },
     "execution_count": 5,
     "metadata": {},
     "output_type": "execute_result"
    }
   ],
   "source": [
    "#  membership operator to check whether element is present in list or not\n",
    "lst = [1,2,3]\n",
    "1 in lst\n"
   ]
  },
  {
   "cell_type": "code",
   "execution_count": 12,
   "id": "30bd540d-32d7-4038-8aaa-c3734e1c918f",
   "metadata": {},
   "outputs": [
    {
     "name": "stdout",
     "output_type": "stream",
     "text": [
      "3 is found\n",
      "[1, 2, 5, 6, 7, 3]\n"
     ]
    }
   ],
   "source": [
    "# avoid value error delete only first occurence of key\n",
    "lst = [1,2,3,5,6,7,3]\n",
    "if 4 in lst:\n",
    "    lst.remove(4)\n",
    "if 3 in lst:\n",
    "    lst.remove(3)\n",
    "if 3 in lst:\n",
    "    print(\"3 is found\")\n",
    "print(lst)"
   ]
  },
  {
   "cell_type": "code",
   "execution_count": 14,
   "id": "0e93995c-7c77-4a82-920e-f2c5b5ba1d0f",
   "metadata": {},
   "outputs": [
    {
     "name": "stdout",
     "output_type": "stream",
     "text": [
      "[2, 3]\n"
     ]
    }
   ],
   "source": [
    "# del the delete entire list or seperate element in list by index \n",
    "lst = [1,2,3]\n",
    "del lst[0] # delete particular element in index\n",
    "print(lst)\n",
    "del lst # delete entire list"
   ]
  },
  {
   "cell_type": "code",
   "execution_count": 15,
   "id": "935c0fff-92e8-48ba-b3c5-9c4e915bea81",
   "metadata": {},
   "outputs": [
    {
     "name": "stdout",
     "output_type": "stream",
     "text": [
      "3\n",
      "[2]\n"
     ]
    }
   ],
   "source": [
    "# pop(index) method default is last index of list \n",
    "lst = [1,2,3]\n",
    "print(lst.pop())\n",
    "lst.pop(0)\n",
    "print(lst)"
   ]
  },
  {
   "cell_type": "markdown",
   "id": "3de2a737-f206-48d3-a805-8af6dfe42f95",
   "metadata": {},
   "source": [
    "#### More Operations"
   ]
  },
  {
   "cell_type": "code",
   "execution_count": 17,
   "id": "fbf38dac-2767-496f-a1d9-67e987efff74",
   "metadata": {},
   "outputs": [
    {
     "data": {
      "text/plain": [
       "[0, 1, 2, 22, 3, 4, 5, 6, 7, 8, 9]"
      ]
     },
     "execution_count": 17,
     "metadata": {},
     "output_type": "execute_result"
    }
   ],
   "source": [
    "# insert element at position\n",
    "lst = [u for u in range(10)]\n",
    "lst.insert(3,22) # position : 3rd index , element : 22\n",
    "lst\n"
   ]
  },
  {
   "cell_type": "code",
   "execution_count": 18,
   "id": "d572292f-af35-4800-86f3-5f90b9d6dc57",
   "metadata": {},
   "outputs": [
    {
     "data": {
      "text/plain": [
       "True"
      ]
     },
     "execution_count": 18,
     "metadata": {},
     "output_type": "execute_result"
    }
   ],
   "source": [
    "# Memebership testing\n",
    "lst = [1,2,3]\n",
    "1 in lst"
   ]
  },
  {
   "cell_type": "code",
   "execution_count": 20,
   "id": "8beb6983-2b6d-4feb-966d-9abcb24cf395",
   "metadata": {},
   "outputs": [
    {
     "name": "stdout",
     "output_type": "stream",
     "text": [
      "True\n",
      "False\n",
      "True\n"
     ]
    }
   ],
   "source": [
    "catalog = ['yogurt', 'apples', 'oranges', 'bananas', 'milk', 'cheese']\n",
    "\n",
    "print('bananas' in catalog)      \n",
    "product = 'lemon'\n",
    "print(product in catalog)        \n",
    "print(product not in catalog)    "
   ]
  },
  {
   "cell_type": "code",
   "execution_count": 22,
   "id": "0804b30b-7e47-4572-a798-eb5a56147ac0",
   "metadata": {},
   "outputs": [
    {
     "data": {
      "text/plain": [
       "3"
      ]
     },
     "execution_count": 22,
     "metadata": {},
     "output_type": "execute_result"
    }
   ],
   "source": [
    "# count  : How Many Elements in the List\n",
    "catalog = [\"apple\",\"orange\",\"apple\",\"banana\",\"apple\"]\n",
    "catalog.count(\"apple\")"
   ]
  },
  {
   "cell_type": "code",
   "execution_count": 23,
   "id": "deb22b6c-f8da-4ff7-a58e-82630ce578d9",
   "metadata": {},
   "outputs": [
    {
     "data": {
      "text/plain": [
       "1"
      ]
     },
     "execution_count": 23,
     "metadata": {},
     "output_type": "execute_result"
    }
   ],
   "source": [
    "# index : first occurence of element in list\n",
    "lst = [1,2,3,1,2,3,1,2,3]\n",
    "lst.index(2)"
   ]
  },
  {
   "cell_type": "code",
   "execution_count": 24,
   "id": "3273e87f-2bb2-426f-a635-f456261a1233",
   "metadata": {},
   "outputs": [
    {
     "data": {
      "text/plain": [
       "4"
      ]
     },
     "execution_count": 24,
     "metadata": {},
     "output_type": "execute_result"
    }
   ],
   "source": [
    "#index(element,start,end) in interval (end is default is length of list(\n",
    "lst = [1,2,3,4,1,1,2]\n",
    "lst.index(1,3)"
   ]
  },
  {
   "cell_type": "code",
   "execution_count": 28,
   "id": "44c7217b-48a2-4c3a-a02f-0eaab10b35b2",
   "metadata": {},
   "outputs": [
    {
     "data": {
      "text/plain": [
       "6"
      ]
     },
     "execution_count": 28,
     "metadata": {},
     "output_type": "execute_result"
    }
   ],
   "source": [
    "lst = [1,2,3,1,2,3,1,2,3] # checks start to endIndex -1 \n",
    "lst.index(1,4,7)"
   ]
  },
  {
   "cell_type": "code",
   "execution_count": 29,
   "id": "f841a0b0-9750-44b1-a5af-8eede527e094",
   "metadata": {},
   "outputs": [
    {
     "name": "stdout",
     "output_type": "stream",
     "text": [
      "[1, 2, 3, 1, 2, 3, 1, 2, 3]\n"
     ]
    },
    {
     "ename": "ValueError",
     "evalue": "list.index(x): x not in list",
     "output_type": "error",
     "traceback": [
      "\u001b[31m---------------------------------------------------------------------------\u001b[39m",
      "\u001b[31mValueError\u001b[39m                                Traceback (most recent call last)",
      "\u001b[36mCell\u001b[39m\u001b[36m \u001b[39m\u001b[32mIn[29]\u001b[39m\u001b[32m, line 5\u001b[39m\n\u001b[32m      3\u001b[39m lst*=\u001b[32m3\u001b[39m\n\u001b[32m      4\u001b[39m \u001b[38;5;28mprint\u001b[39m(lst)\n\u001b[32m----> \u001b[39m\u001b[32m5\u001b[39m \u001b[43mlst\u001b[49m\u001b[43m.\u001b[49m\u001b[43mindex\u001b[49m\u001b[43m(\u001b[49m\u001b[32;43m1\u001b[39;49m\u001b[43m,\u001b[49m\u001b[32;43m4\u001b[39;49m\u001b[43m,\u001b[49m\u001b[32;43m6\u001b[39;49m\u001b[43m)\u001b[49m\n",
      "\u001b[31mValueError\u001b[39m: list.index(x): x not in list"
     ]
    }
   ],
   "source": [
    "# if not found throw Value Error\n",
    "lst = [1,2,3]\n",
    "lst*=3\n",
    "print(lst)\n",
    "lst.index(1,4,6)"
   ]
  },
  {
   "cell_type": "markdown",
   "id": "a8ab20e5-da0a-4787-a53d-a6df6ca5ef9a",
   "metadata": {},
   "source": [
    "### Algorithms\n",
    "Algorithm is step by step sequence of actions you need to \n",
    "peform to acheive the desired result"
   ]
  },
  {
   "cell_type": "markdown",
   "id": "e8ac8fbb-fec4-4e64-ae06-10d68efd63c0",
   "metadata": {},
   "source": [
    "Algorithms are Language independent because they can be implemented in evry language"
   ]
  },
  {
   "cell_type": "code",
   "execution_count": 4,
   "id": "7226c7d1-02d7-4cf8-a53a-8fe779770f12",
   "metadata": {},
   "outputs": [
    {
     "name": "stdin",
     "output_type": "stream",
     "text": [
      " i want to go home.\n"
     ]
    },
    {
     "name": "stdout",
     "output_type": "stream",
     "text": [
      "['i', 'want', 'to', 'go', 'home']\n",
      "13\n",
      "2.6\n"
     ]
    }
   ],
   "source": [
    "sentence = input()\n",
    "\n",
    "def aver(sent):\n",
    "\n",
    "    for sym in [',', '!', '?', ';', '.', '\"', \"'\"]:\n",
    "        sent = sent.replace(sym, '')\n",
    "\n",
    "    words = sent.split()\n",
    "    print(words)\n",
    "\n",
    "    total = 0\n",
    "    for word in words:\n",
    "        total = total + len(word)\n",
    "    print(total)\n",
    "\n",
    "    if len(word) != 0:\n",
    "        result = total / len(words)\n",
    "    else:\n",
    "        result = 0\n",
    "\n",
    "    return result\n",
    "\n",
    "print(aver(sentence))"
   ]
  },
  {
   "cell_type": "code",
   "execution_count": 7,
   "id": "1dd18512-ca3f-416f-b329-70d3d7e412f3",
   "metadata": {},
   "outputs": [
    {
     "name": "stdin",
     "output_type": "stream",
     "text": [
      " 4 5 1 3 8\n",
      " 4 6\n"
     ]
    },
    {
     "name": "stdout",
     "output_type": "stream",
     "text": [
      "9\n"
     ]
    }
   ],
   "source": [
    "def range_sum(numbers, start, end):\n",
    "    ans = 0\n",
    "    for num in numbers:\n",
    "        if num >= start and num <= end:\n",
    "            ans+=num\n",
    "    return ans\n",
    "\n",
    "\n",
    "input_numbers =  list(map(int,input().split()))\n",
    "a, b =  map(int,input().split())\n",
    "print(range_sum(input_numbers, a, b))"
   ]
  },
  {
   "cell_type": "markdown",
   "id": "c402b5eb-b11f-41c3-abb3-ac9ae7b484c6",
   "metadata": {},
   "source": [
    "#### PseudoCode\n",
    "1) A special artificial langauge between human language and code\n",
    "2) We are inevitably forced to resort to high level constructs like \"Do A until B happens\" where A and B are complex operations"
   ]
  },
  {
   "cell_type": "markdown",
   "id": "e72ea85a-ee8a-486f-84e2-97567d98fa18",
   "metadata": {},
   "source": [
    "#### Recursion:\n",
    "1) Recursion is a programming  when a function calls itself\n",
    "2) Function that can do itself is called Recursion"
   ]
  },
  {
   "cell_type": "markdown",
   "id": "db8f8200-c466-45cf-a4ba-45c977d8e406",
   "metadata": {},
   "source": [
    "1) trivial best case :  This stops the recursion\n",
    "2) reduction step: gets us complex problemto simpler one"
   ]
  },
  {
   "cell_type": "markdown",
   "id": "46eb7b26-7502-47f6-8b63-f2cf45549d82",
   "metadata": {},
   "source": [
    "#### Recursion is efficient in terms of memeory and time\n",
    "#### it is slower and heavier than loops"
   ]
  },
  {
   "cell_type": "code",
   "execution_count": 9,
   "id": "9f940a75-efc4-4a12-8e59-9797740a2afd",
   "metadata": {},
   "outputs": [
    {
     "name": "stdout",
     "output_type": "stream",
     "text": [
      "Hello\n",
      "Hello\n",
      "Hello\n",
      "Hello\n"
     ]
    },
    {
     "data": {
      "text/plain": [
       "False"
      ]
     },
     "execution_count": 9,
     "metadata": {},
     "output_type": "execute_result"
    }
   ],
   "source": [
    "def fun(n:int):\n",
    "    print(\"Hello\")\n",
    "    if n == 1:\n",
    "        return True \n",
    "    if n > 1 and n < 2:\n",
    "        return False \n",
    "    if n >= 2:\n",
    "        return fun(n/2)\n",
    "\n",
    "fun(10)"
   ]
  },
  {
   "cell_type": "code",
   "execution_count": 26,
   "id": "fa7d425b-115a-4799-ad7f-47bdf23cc051",
   "metadata": {},
   "outputs": [],
   "source": [
    "def list_sum(some_list):\n",
    "    if some_list == []:\n",
    "        print(\"Hello\")\n",
    "        return 0\n",
    "    # base case\n",
    "    elif len(some_list) == 1:\n",
    "        return some_list[0]\n",
    "    # recursive case\n",
    "    else:\n",
    "        return some_list[-1] + list_sum(some_list[:len(some_list)-1])"
   ]
  },
  {
   "cell_type": "code",
   "execution_count": 27,
   "id": "639503c8-26ed-4634-b99c-1f535f37b881",
   "metadata": {},
   "outputs": [
    {
     "name": "stdout",
     "output_type": "stream",
     "text": [
      "15\n"
     ]
    }
   ],
   "source": [
    "lst = [1,2,3,4,5]\n",
    "print(list_sum(lst))"
   ]
  },
  {
   "cell_type": "code",
   "execution_count": 30,
   "id": "766abb2e-bb5a-4b04-a056-cb0373b0e475",
   "metadata": {},
   "outputs": [],
   "source": [
    "def pow_rec(number, power):\n",
    "    print(\"Hello\")\n",
    "    # base case\n",
    "    if power == 0:\n",
    "        return 1\n",
    "     # base case\n",
    "    elif power == 1:\n",
    "        return number\n",
    "     # recursive case\n",
    "    else:\n",
    "        return number * pow_rec(number, power - 1)"
   ]
  },
  {
   "cell_type": "code",
   "execution_count": 31,
   "id": "d18bbac4-f08d-42b8-bb73-8faa24920d1e",
   "metadata": {},
   "outputs": [
    {
     "name": "stdout",
     "output_type": "stream",
     "text": [
      "Hello\n",
      "Hello\n",
      "Hello\n",
      "Hello\n",
      "Hello\n"
     ]
    },
    {
     "data": {
      "text/plain": [
       "243"
      ]
     },
     "execution_count": 31,
     "metadata": {},
     "output_type": "execute_result"
    }
   ],
   "source": [
    "pow_rec(3,5)"
   ]
  },
  {
   "cell_type": "code",
   "execution_count": 36,
   "id": "dfc7ad2e-d0c1-40a7-b505-6e5e6b83a65a",
   "metadata": {},
   "outputs": [],
   "source": [
    "def multiply(a, b):\n",
    "    # base case\n",
    "    if b == 1:\n",
    "        return a\n",
    "    # recursive case\n",
    "    return  a + multiply(a,b-1)\n"
   ]
  },
  {
   "cell_type": "code",
   "execution_count": 37,
   "id": "edb9c4bc-8f7f-461a-bff7-92dcbbdd6376",
   "metadata": {},
   "outputs": [
    {
     "data": {
      "text/plain": [
       "690"
      ]
     },
     "execution_count": 37,
     "metadata": {},
     "output_type": "execute_result"
    }
   ],
   "source": [
    "multiply(2,345)"
   ]
  },
  {
   "cell_type": "markdown",
   "id": "166e19db-d2f1-4fc5-ad70-666c860eaefb",
   "metadata": {},
   "source": [
    "### Stack \n",
    "Stack is a Data Structure that leads to Last In First Out"
   ]
  },
  {
   "cell_type": "code",
   "execution_count": 1,
   "id": "25403754-7fbb-4ae7-9fd6-b6e3fc315119",
   "metadata": {},
   "outputs": [
    {
     "name": "stdout",
     "output_type": "stream",
     "text": [
      "2\n",
      "1\n"
     ]
    }
   ],
   "source": [
    "my_stack = []\n",
    "# insert like stack\n",
    "my_stack.append(1)\n",
    "my_stack.append(2)\n",
    "# pop like stack\n",
    "print(my_stack.pop())\n",
    "# peek like stack\n",
    "print(my_stack[-1])\n"
   ]
  },
  {
   "cell_type": "code",
   "execution_count": 3,
   "id": "6b2825f7-6a0d-43e9-95f7-fedb84ee965e",
   "metadata": {},
   "outputs": [
    {
     "data": {
      "text/plain": [
       "3"
      ]
     },
     "execution_count": 3,
     "metadata": {},
     "output_type": "execute_result"
    }
   ],
   "source": [
    "from collections import deque\n",
    "\n",
    "my_stack = deque()\n",
    "\n",
    "# insert element\n",
    "my_stack.append(1)\n",
    "my_stack.append(3)\n",
    "\n",
    "# pop like stack\n",
    "my_stack.pop()"
   ]
  },
  {
   "cell_type": "code",
   "execution_count": 4,
   "id": "f307feee-9e4f-49fc-9d42-60b3dc7f6f1d",
   "metadata": {},
   "outputs": [
    {
     "name": "stdout",
     "output_type": "stream",
     "text": [
      "1\n"
     ]
    }
   ],
   "source": [
    "print(len(my_stack))"
   ]
  },
  {
   "cell_type": "code",
   "execution_count": 5,
   "id": "d76ece25-58eb-49ed-8952-cecfa0805b6d",
   "metadata": {},
   "outputs": [
    {
     "ename": "IndexError",
     "evalue": "deque index out of range",
     "output_type": "error",
     "traceback": [
      "\u001b[31m---------------------------------------------------------------------------\u001b[39m",
      "\u001b[31mIndexError\u001b[39m                                Traceback (most recent call last)",
      "\u001b[36mCell\u001b[39m\u001b[36m \u001b[39m\u001b[32mIn[5]\u001b[39m\u001b[32m, line 1\u001b[39m\n\u001b[32m----> \u001b[39m\u001b[32m1\u001b[39m \u001b[43mmy_stack\u001b[49m\u001b[43m[\u001b[49m\u001b[32;43m1\u001b[39;49m\u001b[43m]\u001b[49m\n",
      "\u001b[31mIndexError\u001b[39m: deque index out of range"
     ]
    }
   ],
   "source": [
    "my_stack[1] # index out of range"
   ]
  },
  {
   "cell_type": "code",
   "execution_count": 6,
   "id": "d6b1e40f-7bf0-4e46-b847-d86a5115d717",
   "metadata": {},
   "outputs": [
    {
     "name": "stdin",
     "output_type": "stream",
     "text": [
      " 5\n",
      " k\n",
      " a\n",
      " r\n",
      " a\n",
      " g\n"
     ]
    },
    {
     "name": "stdout",
     "output_type": "stream",
     "text": [
      "g\n",
      "a\n",
      "r\n",
      "a\n",
      "k\n"
     ]
    }
   ],
   "source": [
    "n = int(input())\n",
    "ans = []\n",
    "\n",
    "for i in range(n):\n",
    "    ans.append(input())\n",
    "\n",
    "for i in range(1,len(ans)+1):\n",
    "    print(ans[-i])\n",
    "    "
   ]
  },
  {
   "cell_type": "code",
   "execution_count": 10,
   "id": "8f68ad81-60f6-475d-8fbd-f5c0db99b795",
   "metadata": {},
   "outputs": [
    {
     "name": "stdin",
     "output_type": "stream",
     "text": [
      " (a+b)*c\n"
     ]
    },
    {
     "name": "stdout",
     "output_type": "stream",
     "text": [
      "OK\n"
     ]
    }
   ],
   "source": [
    "expression = input()\n",
    "my_stack = []\n",
    "statement = \"OK\";\n",
    "for ch in expression:\n",
    "    if ch == '(':\n",
    "        my_stack.append(ch)\n",
    "    elif ch == ')':\n",
    "       if len(my_stack) == 0:\n",
    "           statement = \"ERROR\"\n",
    "           break\n",
    "       my_stack.pop()\n",
    "\n",
    "if len(my_stack) != 0:\n",
    "    statement  = \"ERROR\"\n",
    "    \n",
    "print(statement)  \n",
    "            \n",
    "        "
   ]
  },
  {
   "cell_type": "code",
   "execution_count": null,
   "id": "c96dc623-022b-4c9d-98b4-2b44242f49c1",
   "metadata": {},
   "outputs": [],
   "source": []
  }
 ],
 "metadata": {
  "kernelspec": {
   "display_name": "Python 3 (ipykernel)",
   "language": "python",
   "name": "python3"
  },
  "language_info": {
   "codemirror_mode": {
    "name": "ipython",
    "version": 3
   },
   "file_extension": ".py",
   "mimetype": "text/x-python",
   "name": "python",
   "nbconvert_exporter": "python",
   "pygments_lexer": "ipython3",
   "version": "3.14.0"
  }
 },
 "nbformat": 4,
 "nbformat_minor": 5
}
