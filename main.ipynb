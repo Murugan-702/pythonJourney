{
 "cells": [
  {
   "cell_type": "markdown",
   "id": "d232d86e",
   "metadata": {},
   "source": [
    "# Python Programming Basics Part 1"
   ]
  },
  {
   "cell_type": "markdown",
   "id": "6e689d96",
   "metadata": {},
   "source": [
    "### Lesson 1 Beginning"
   ]
  },
  {
   "cell_type": "markdown",
   "id": "5a598904",
   "metadata": {},
   "source": [
    "Program is Sequence of instructions which are executed in order to peform task "
   ]
  },
  {
   "cell_type": "markdown",
   "id": "15175e5f",
   "metadata": {},
   "source": [
    "print() is the function is used to print the string present inside parthensis"
   ]
  },
  {
   "cell_type": "code",
   "execution_count": 1,
   "id": "ae00317f",
   "metadata": {},
   "outputs": [
    {
     "name": "stdout",
     "output_type": "stream",
     "text": [
      "Hello World\n"
     ]
    }
   ],
   "source": [
    "print(\"Hello World\")  # printing hello world"
   ]
  },
  {
   "cell_type": "markdown",
   "id": "e3595360",
   "metadata": {},
   "source": [
    "Basic Errors to Avoid :\n",
    "1) missing one or more quotes\n",
    "2) missing indentation\n",
    "3) unwanted spaces \n",
    "4)  Writting wrong name in function\n",
    "5) Writting different case for any name than declared (case-sensitive)\n",
    "6) missing one or more parthensis"
   ]
  },
  {
   "cell_type": "markdown",
   "id": "fa4fd2c3",
   "metadata": {},
   "source": [
    " Comments \n",
    "1) Textual Expression which explains the program starts with #\n",
    "2) They are get ignored during execution\n",
    "3) They are for documental purposes \n"
   ]
  },
  {
   "cell_type": "code",
   "execution_count": 2,
   "id": "7e202403",
   "metadata": {},
   "outputs": [
    {
     "data": {
      "text/plain": [
       "'\\n    This is Mutlline Comment \\n'"
      ]
     },
     "execution_count": 2,
     "metadata": {},
     "output_type": "execute_result"
    }
   ],
   "source": [
    "# This is Single Line Comment\n",
    "'''\n",
    "    This is Mutlline Comment \n",
    "'''"
   ]
  },
  {
   "cell_type": "markdown",
   "id": "80e2a459",
   "metadata": {},
   "source": [
    "Data Object :\n",
    " Containter that stores information about value and may store additional data such as identity"
   ]
  },
  {
   "cell_type": "markdown",
   "id": "169b8f8a",
   "metadata": {},
   "source": [
    "String literals : Sequence of Characters surronded by single or double quotes"
   ]
  },
  {
   "cell_type": "markdown",
   "id": "353ef932",
   "metadata": {},
   "source": [
    "Numeric Data Type : Category of data that can handle numbers \n",
    "1) signed integers \n",
    "2) floating point numbers"
   ]
  },
  {
   "cell_type": "markdown",
   "id": "1c32209a",
   "metadata": {},
   "source": [
    "type() function tells us about data type of variables or constants "
   ]
  },
  {
   "cell_type": "code",
   "execution_count": 3,
   "id": "61d7c83c",
   "metadata": {},
   "outputs": [
    {
     "data": {
      "text/plain": [
       "str"
      ]
     },
     "execution_count": 3,
     "metadata": {},
     "output_type": "execute_result"
    }
   ],
   "source": [
    "type(\"Thiru\")"
   ]
  },
  {
   "cell_type": "code",
   "execution_count": 5,
   "id": "7b9afeb2",
   "metadata": {},
   "outputs": [],
   "source": [
    "# Basic Data Types\n",
    "email  = \"Thiru@gmail.com\"\n",
    "numOranges = 12\n",
    "totalBudget = 3.4\n",
    "img = 12j\n"
   ]
  },
  {
   "cell_type": "markdown",
   "id": "782a554a",
   "metadata": {},
   "source": [
    "Variables : namespace that store value and access it later only within indentation they intialised\n"
   ]
  },
  {
   "cell_type": "markdown",
   "id": "fef4951b",
   "metadata": {},
   "source": [
    "\" Python is Dynamically typed language\"\n",
    "because , data Types are checked at runtime"
   ]
  },
  {
   "cell_type": "markdown",
   "id": "4bc8333e",
   "metadata": {},
   "source": [
    "Identifier : name given to variable which stores value into it\n",
    "### Rules of Identifier\n",
    "1) It should not start with digit\n",
    "2) It can start with letters , underscores  followed by digits , letters or underscores\n",
    "3) must not be keyword \n",
    "4) case sensitive"
   ]
  },
  {
   "cell_type": "markdown",
   "id": "c9e7dd2e",
   "metadata": {},
   "source": [
    "Arithemetic Operations : Mathematical Operations operations on mathematical values"
   ]
  },
  {
   "cell_type": "markdown",
   "id": "63f6986b",
   "metadata": {},
   "source": [
    "1) Operators: Symbols which operations can peform \n",
    "2) Operands : values that peform operations"
   ]
  },
  {
   "cell_type": "code",
   "execution_count": 6,
   "id": "05f4ed69",
   "metadata": {},
   "outputs": [
    {
     "name": "stdout",
     "output_type": "stream",
     "text": [
      "22\n"
     ]
    }
   ],
   "source": [
    "a = 10 + 12 \n",
    "print(a)"
   ]
  },
  {
   "cell_type": "code",
   "execution_count": 10,
   "id": "f329037a",
   "metadata": {},
   "outputs": [
    {
     "name": "stdout",
     "output_type": "stream",
     "text": [
      "-10\n",
      "264\n",
      "0.5454545454545454\n",
      "0\n"
     ]
    }
   ],
   "source": [
    "a1 = 12 - 22\n",
    "a2 = 12 * 22\n",
    "a3 = 12 / 22\n",
    "a4 = 12 // 22\n",
    "print(a1,a2,a3,a4,sep=\"\\n\")"
   ]
  },
  {
   "cell_type": "code",
   "execution_count": null,
   "id": "1938ba1a",
   "metadata": {},
   "outputs": [
    {
     "name": "stdout",
     "output_type": "stream",
     "text": [
      "0\n"
     ]
    }
   ],
   "source": [
    "x1 = 12 % 2 # remainder \n",
    "print(x1)"
   ]
  },
  {
   "cell_type": "code",
   "execution_count": 12,
   "id": "22e520e6",
   "metadata": {},
   "outputs": [
    {
     "data": {
      "text/plain": [
       "144"
      ]
     },
     "execution_count": 12,
     "metadata": {},
     "output_type": "execute_result"
    }
   ],
   "source": [
    "# Exponentation\n",
    "12 ** 2"
   ]
  },
  {
   "cell_type": "markdown",
   "id": "b399799a",
   "metadata": {},
   "source": [
    "Priority Of Operators \n",
    "1) power\n",
    "2) unary minus\n",
    "3) mul , div , rem\n",
    "4) add , sub"
   ]
  },
  {
   "cell_type": "markdown",
   "id": "cc1a3dd3",
   "metadata": {},
   "source": [
    "### Taking User Input\n",
    "input() function takes input as string "
   ]
  },
  {
   "cell_type": "code",
   "execution_count": 14,
   "id": "99a25df8",
   "metadata": {},
   "outputs": [
    {
     "name": "stdout",
     "output_type": "stream",
     "text": [
      "Cabelon\n"
     ]
    }
   ],
   "source": [
    "name = input(\"Enter name: \")\n",
    "print(name)"
   ]
  },
  {
   "cell_type": "markdown",
   "id": "e18fe43b",
   "metadata": {},
   "source": [
    "### Type Casting\n",
    "1) Implicit type casting not possible in python as dynamically typed langauge\n",
    "2) Explicit type casting : type casted into int , float function"
   ]
  },
  {
   "cell_type": "code",
   "execution_count": 16,
   "id": "3096a3d5",
   "metadata": {},
   "outputs": [
    {
     "name": "stdout",
     "output_type": "stream",
     "text": [
      "452.3893421169302\n"
     ]
    }
   ],
   "source": [
    "age = int(input(\"Enter Age: \"))\n",
    "radius = float(input(\"Enter radius: \"))\n",
    "import math\n",
    "print(math.pi * (radius**2))"
   ]
  },
  {
   "cell_type": "markdown",
   "id": "94660e82",
   "metadata": {},
   "source": [
    "### Boolean Types & Truthy or Falsy Values"
   ]
  },
  {
   "cell_type": "markdown",
   "id": "1bdbf608",
   "metadata": {},
   "source": [
    "Boolean Type : special data type that holds True or False"
   ]
  },
  {
   "cell_type": "markdown",
   "id": "781d1cbd",
   "metadata": {},
   "source": [
    "Logical Operators : used to combine one or more conditional statements"
   ]
  },
  {
   "cell_type": "markdown",
   "id": "389e7efd",
   "metadata": {},
   "source": [
    "1) and - > binary (if both are true it is true else false)\n",
    "2) or - > binary (if both are false it is false else true)\n",
    "3) not -> opposite of its truthy value "
   ]
  },
  {
   "cell_type": "markdown",
   "id": "8e99dea5",
   "metadata": {},
   "source": [
    "constants : once defined cannot change its value "
   ]
  },
  {
   "cell_type": "code",
   "execution_count": 19,
   "id": "c8f649b4",
   "metadata": {},
   "outputs": [
    {
     "name": "stdout",
     "output_type": "stream",
     "text": [
      "True\n",
      "False\n"
     ]
    }
   ],
   "source": [
    "print(12 % 4 == 0 or 3 % 4 == 0)\n",
    "print(3% 4 == 0)"
   ]
  },
  {
   "cell_type": "code",
   "execution_count": 20,
   "id": "8e560313",
   "metadata": {},
   "outputs": [
    {
     "name": "stdout",
     "output_type": "stream",
     "text": [
      "False\n"
     ]
    }
   ],
   "source": [
    "print(12 % 3 == 0 and 3 % 4 == 0)"
   ]
  },
  {
   "cell_type": "code",
   "execution_count": 21,
   "id": "57fcd5fa",
   "metadata": {},
   "outputs": [
    {
     "name": "stdout",
     "output_type": "stream",
     "text": [
      "False\n"
     ]
    }
   ],
   "source": [
    "print(not 12 % 3 == 0)"
   ]
  },
  {
   "cell_type": "markdown",
   "id": "93e9dd34",
   "metadata": {},
   "source": [
    "precedence of logical operators : not -> and  -> or"
   ]
  },
  {
   "cell_type": "markdown",
   "id": "be477548",
   "metadata": {},
   "source": [
    "1) constants , None , False ,\"\", [] , {} , 0, 0.0 are all represented as Falsy values gives truth value False which are falsy values \n",
    "2) Others varibales except boolean generally have truth value True are called Truthy Values"
   ]
  },
  {
   "cell_type": "code",
   "execution_count": 23,
   "id": "50217c14",
   "metadata": {},
   "outputs": [
    {
     "name": "stdout",
     "output_type": "stream",
     "text": [
      "False False False\n"
     ]
    }
   ],
   "source": [
    "a = bool(\"\")\n",
    "b = bool([])\n",
    "c = bool({})\n",
    "print(a,b,c)"
   ]
  },
  {
   "cell_type": "code",
   "execution_count": 24,
   "id": "0d67af2b",
   "metadata": {},
   "outputs": [
    {
     "name": "stdout",
     "output_type": "stream",
     "text": [
      "False False\n"
     ]
    }
   ],
   "source": [
    "a = bool(0)\n",
    "b = bool(0.0)\n",
    "print(a,b)"
   ]
  },
  {
   "cell_type": "code",
   "execution_count": 25,
   "id": "8493e92c",
   "metadata": {},
   "outputs": [
    {
     "data": {
      "text/plain": [
       "True"
      ]
     },
     "execution_count": 25,
     "metadata": {},
     "output_type": "execute_result"
    }
   ],
   "source": [
    "a = 1\n",
    "bool(a)"
   ]
  },
  {
   "cell_type": "code",
   "execution_count": 26,
   "id": "b7a3d041",
   "metadata": {},
   "outputs": [
    {
     "data": {
      "text/plain": [
       "False"
      ]
     },
     "execution_count": 26,
     "metadata": {},
     "output_type": "execute_result"
    }
   ],
   "source": [
    "bool(None)"
   ]
  },
  {
   "cell_type": "markdown",
   "id": "74138989",
   "metadata": {},
   "source": [
    "### Comparison Operators\n",
    "Symbols used to compare values"
   ]
  },
  {
   "cell_type": "code",
   "execution_count": null,
   "id": "1a1f9d4d",
   "metadata": {},
   "outputs": [
    {
     "data": {
      "text/plain": [
       "True"
      ]
     },
     "execution_count": 27,
     "metadata": {},
     "output_type": "execute_result"
    }
   ],
   "source": [
    "# lesser than \n",
    "12 < 22"
   ]
  },
  {
   "cell_type": "code",
   "execution_count": null,
   "id": "4c1c4a45",
   "metadata": {},
   "outputs": [
    {
     "data": {
      "text/plain": [
       "False"
      ]
     },
     "execution_count": 28,
     "metadata": {},
     "output_type": "execute_result"
    }
   ],
   "source": [
    "# greater than\n",
    "12 > 22"
   ]
  },
  {
   "cell_type": "code",
   "execution_count": null,
   "id": "4e877a6f",
   "metadata": {},
   "outputs": [
    {
     "data": {
      "text/plain": [
       "True"
      ]
     },
     "execution_count": 29,
     "metadata": {},
     "output_type": "execute_result"
    }
   ],
   "source": [
    "# lesser than or equal to \n",
    "12 <= 12\n"
   ]
  },
  {
   "cell_type": "code",
   "execution_count": null,
   "id": "24ccf8a5",
   "metadata": {},
   "outputs": [
    {
     "data": {
      "text/plain": [
       "True"
      ]
     },
     "execution_count": 30,
     "metadata": {},
     "output_type": "execute_result"
    }
   ],
   "source": [
    "# greater than equal to \n",
    "13 >= 12"
   ]
  },
  {
   "cell_type": "code",
   "execution_count": 31,
   "id": "4ee850cf",
   "metadata": {},
   "outputs": [
    {
     "data": {
      "text/plain": [
       "True"
      ]
     },
     "execution_count": 31,
     "metadata": {},
     "output_type": "execute_result"
    }
   ],
   "source": [
    "# equal to \n",
    "12 == 12"
   ]
  },
  {
   "cell_type": "code",
   "execution_count": 32,
   "id": "5ad09a44",
   "metadata": {},
   "outputs": [
    {
     "data": {
      "text/plain": [
       "False"
      ]
     },
     "execution_count": 32,
     "metadata": {},
     "output_type": "execute_result"
    }
   ],
   "source": [
    "# not equal to \n",
    "12  != 12"
   ]
  },
  {
   "cell_type": "code",
   "execution_count": 33,
   "id": "648a71e6",
   "metadata": {},
   "outputs": [
    {
     "data": {
      "text/plain": [
       "True"
      ]
     },
     "execution_count": 33,
     "metadata": {},
     "output_type": "execute_result"
    }
   ],
   "source": [
    "# object identity \n",
    "a = 12 \n",
    "b = 12\n",
    "a is b"
   ]
  },
  {
   "cell_type": "code",
   "execution_count": 34,
   "id": "05356f26",
   "metadata": {},
   "outputs": [
    {
     "data": {
      "text/plain": [
       "True"
      ]
     },
     "execution_count": 34,
     "metadata": {},
     "output_type": "execute_result"
    }
   ],
   "source": [
    "# member ship operators \n",
    "word = \"hello, world\"\n",
    "\"hello\" in word"
   ]
  }
 ],
 "metadata": {
  "kernelspec": {
   "display_name": "Python 3",
   "language": "python",
   "name": "python3"
  },
  "language_info": {
   "codemirror_mode": {
    "name": "ipython",
    "version": 3
   },
   "file_extension": ".py",
   "mimetype": "text/x-python",
   "name": "python",
   "nbconvert_exporter": "python",
   "pygments_lexer": "ipython3",
   "version": "3.12.5"
  }
 },
 "nbformat": 4,
 "nbformat_minor": 5
}
