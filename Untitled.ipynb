{
 "cells": [
  {
   "cell_type": "markdown",
   "id": "1d54fb69-6fcf-40a4-b660-01f36560c99e",
   "metadata": {},
   "source": [
    "## Python Programming Basics Part 1"
   ]
  },
  {
   "cell_type": "markdown",
   "id": "51d7c525-1e30-47d1-8695-fd0ad2ca86ac",
   "metadata": {},
   "source": [
    "### Lesson 4 Working With Strings Basic"
   ]
  },
  {
   "cell_type": "code",
   "execution_count": 1,
   "id": "e01c1e04-a012-467d-96ca-2f37d945b4f1",
   "metadata": {},
   "outputs": [
    {
     "name": "stdout",
     "output_type": "stream",
     "text": [
      "<class 'str'>\n",
      "6\n"
     ]
    }
   ],
   "source": [
    "# Strings is the representation of numbers ,letters , symbols etc within single or double quotes\n",
    "name = \"sample\"\n",
    "print(type(name))\n",
    "print(len(name))"
   ]
  },
  {
   "cell_type": "markdown",
   "id": "804e5911-7fc1-4cc2-8774-36d5017a9e61",
   "metadata": {},
   "source": [
    "String Literal : The Group of Characters surronded by double or single quotes"
   ]
  },
  {
   "cell_type": "code",
   "execution_count": 2,
   "id": "1a9fe932-91ed-4810-9dcd-6e4e0aef1e46",
   "metadata": {},
   "outputs": [
    {
     "name": "stdout",
     "output_type": "stream",
     "text": [
      " There are Many Organisations around the world.\n",
      "They are promising World Peace for claiming name not for actual \n",
      "purpose of humanity deep down they want everyone to suffer\n",
      "and enjoy in live show \n"
     ]
    }
   ],
   "source": [
    "# MultiLine Strings\n",
    "statement = \"\"\" There are Many Organisations around the world.\n",
    "They are promising World Peace for claiming name not for actual \n",
    "purpose of humanity deep down they want everyone to suffer\n",
    "and enjoy in live show \"\"\"\n",
    "print(statement)"
   ]
  },
  {
   "cell_type": "code",
   "execution_count": 5,
   "id": "a9550ce3-f4be-4cd9-986f-b50e96be3d1d",
   "metadata": {},
   "outputs": [
    {
     "name": "stdout",
     "output_type": "stream",
     "text": [
      "There was a Banyan Tree which was so tall that Banyan Tree would have live atleast 300 years old\n"
     ]
    }
   ],
   "source": [
    "# Replace String \n",
    "statement = \"There was a tree which was so tall that tree would have live atleast 300 years old\"\n",
    "print(statement.replace(\"tree\",\"Banyan Tree\"))"
   ]
  },
  {
   "cell_type": "code",
   "execution_count": 6,
   "id": "a4435d14-4cae-4a6b-b9c3-755e1c88beff",
   "metadata": {},
   "outputs": [
    {
     "name": "stdout",
     "output_type": "stream",
     "text": [
      "There was Red Sparrow in Blue Building\n"
     ]
    }
   ],
   "source": [
    "# Replace Count of Times \n",
    "statement = \"There was Blue Sparrow in Blue Building\"\n",
    "print(statement.replace(\"Blue\",\"Red\",1))"
   ]
  },
  {
   "cell_type": "code",
   "execution_count": 7,
   "id": "c091b6a3-3622-43a9-bb44-eb031fa2f320",
   "metadata": {},
   "outputs": [
    {
     "name": "stdout",
     "output_type": "stream",
     "text": [
      "capitan heads towards ocean\n",
      "CAPITAN HEADS TOWARDS OCEAN\n"
     ]
    }
   ],
   "source": [
    "# upper and lower case \n",
    "statement = \"Capitan heads towards ocean\"\n",
    "print(statement.lower())\n",
    "print(statement.upper())"
   ]
  },
  {
   "cell_type": "code",
   "execution_count": 10,
   "id": "5402d5cf-33eb-453e-8bc3-63e0e261351b",
   "metadata": {},
   "outputs": [
    {
     "name": "stdout",
     "output_type": "stream",
     "text": [
      "The Movie Was Released Over Night\n",
      "The movie was released over night\n"
     ]
    }
   ],
   "source": [
    "# capitalise and title \n",
    "statement = \"the movie was released over night\"\n",
    "print(statement.title()) # title \n",
    "print(statement.capitalize()) # capitalise "
   ]
  },
  {
   "cell_type": "code",
   "execution_count": 11,
   "id": "86820e58-33af-43fd-99f3-4ce6381a0441",
   "metadata": {},
   "outputs": [
    {
     "name": "stdout",
     "output_type": "stream",
     "text": [
      "THE movie IS released\n"
     ]
    }
   ],
   "source": [
    "# swapcase \n",
    "statement = \"the MOVIE is RELEASED\"\n",
    "print(statement.swapcase())"
   ]
  },
  {
   "cell_type": "code",
   "execution_count": 12,
   "id": "227f28da-7145-4adb-9b52-7ee5acac42d9",
   "metadata": {},
   "outputs": [
    {
     "name": "stdout",
     "output_type": "stream",
     "text": [
      "The Movie was released \n",
      "   The Movie was released\n",
      "The Movie was released\n"
     ]
    }
   ],
   "source": [
    "# lstrip , rstrip , strip\n",
    "statement = \"   The Movie was released \"\n",
    "print(statement.lstrip())\n",
    "print(statement.rstrip())\n",
    "print(statement.strip())"
   ]
  },
  {
   "cell_type": "code",
   "execution_count": 16,
   "id": "20aa1f18-3b73-438b-81c7-4a844889bc87",
   "metadata": {},
   "outputs": [
    {
     "data": {
      "text/plain": [
       "True"
      ]
     },
     "execution_count": 16,
     "metadata": {},
     "output_type": "execute_result"
    }
   ],
   "source": [
    "# To check whether string is present or not\n",
    "statement = \"The Movie was released\"\n",
    "\"Mov\" in statement"
   ]
  },
  {
   "cell_type": "code",
   "execution_count": 17,
   "id": "25646a73-d3e8-4f56-919e-8be050f3f4fb",
   "metadata": {},
   "outputs": [
    {
     "name": "stdout",
     "output_type": "stream",
     "text": [
      "True\n",
      "False\n",
      "False\n"
     ]
    }
   ],
   "source": [
    "# startswith(pattern,start,end)\n",
    "# it cheks the start of sequence of string in given indexes range\n",
    "# default value of start is 0 and end is length of string \n",
    "sentence = \"Joker is acting in the movie\"\n",
    "print(sentence.startswith(\"Joker\"))\n",
    "print(sentence.startswith(\"Joker\",3))\n",
    "print(sentence.startswith(\"acting\",6,9))\n"
   ]
  },
  {
   "cell_type": "code",
   "execution_count": 19,
   "id": "fa66d38e-8085-4a95-a39f-38789c74b793",
   "metadata": {},
   "outputs": [
    {
     "name": "stdout",
     "output_type": "stream",
     "text": [
      "True\n",
      "True\n",
      "False\n"
     ]
    }
   ],
   "source": [
    "#endswith(pattern,start,end) \n",
    "# it checks the end of the string in indexes range\n",
    "# default value of start is 0 and end is length of string\n",
    "sentence = \"Joker is acting in the movie\"\n",
    "print(sentence.endswith(\"movie\"))\n",
    "print(sentence.endswith(\"movie\",3))\n",
    "print(sentence.endswith(\"movie\",3,9))"
   ]
  },
  {
   "cell_type": "code",
   "execution_count": 25,
   "id": "48633d78-783c-4003-956f-b1b124449185",
   "metadata": {},
   "outputs": [
    {
     "name": "stdout",
     "output_type": "stream",
     "text": [
      "26\n",
      "-1\n",
      "26\n",
      "-1\n"
     ]
    }
   ],
   "source": [
    "# find method if present gives first index else return -1 within start and end sequence\n",
    "# default start = 0 , end = length of string \n",
    "sentence = \"PanCakes are not good for health\"\n",
    "print(sentence.find(\"health\"))\n",
    "print(sentence.find(\"H\"))\n",
    "print(sentence.find(\"health\",0))\n",
    "print(sentence.find(\"health\",0,3))"
   ]
  },
  {
   "cell_type": "code",
   "execution_count": 33,
   "id": "b5956328-26db-4eff-ab76-9d5a1005fd6a",
   "metadata": {},
   "outputs": [
    {
     "name": "stdout",
     "output_type": "stream",
     "text": [
      "26\n",
      "26\n"
     ]
    }
   ],
   "source": [
    "# index method if present gives first index else  within start and end sequence\n",
    "# default start = 0 , end = length of string \n",
    "sentence = \"PanCakes are not good for health\"\n",
    "print(sentence.index(\"health\"))\n",
    "print(sentence.index(\"health\",0))"
   ]
  },
  {
   "cell_type": "code",
   "execution_count": 35,
   "id": "ea02d5b5-2beb-42c2-98a4-44014235ae7a",
   "metadata": {},
   "outputs": [
    {
     "ename": "ValueError",
     "evalue": "substring not found",
     "output_type": "error",
     "traceback": [
      "\u001b[31m---------------------------------------------------------------------------\u001b[39m",
      "\u001b[31mValueError\u001b[39m                                Traceback (most recent call last)",
      "\u001b[36mCell\u001b[39m\u001b[36m \u001b[39m\u001b[32mIn[35]\u001b[39m\u001b[32m, line 3\u001b[39m\n\u001b[32m      1\u001b[39m  \u001b[38;5;66;03m#index method throws Value Error when substring not found\u001b[39;00m\n\u001b[32m      2\u001b[39m sentence = \u001b[33m\"\u001b[39m\u001b[33mPanCakes are not good for health\u001b[39m\u001b[33m\"\u001b[39m\n\u001b[32m----> \u001b[39m\u001b[32m3\u001b[39m \u001b[38;5;28mprint\u001b[39m(\u001b[43msentence\u001b[49m\u001b[43m.\u001b[49m\u001b[43mindex\u001b[49m\u001b[43m(\u001b[49m\u001b[33;43m\"\u001b[39;49m\u001b[33;43mH\u001b[39;49m\u001b[33;43m\"\u001b[39;49m\u001b[43m)\u001b[49m)\n",
      "\u001b[31mValueError\u001b[39m: substring not found"
     ]
    }
   ],
   "source": [
    " #index method throws Value Error when substring not found\n",
    "sentence = \"PanCakes are not good for health\"\n",
    "print(sentence.index(\"H\"))"
   ]
  },
  {
   "cell_type": "code",
   "execution_count": 38,
   "id": "6cba440d-7c63-42f8-b382-3f948be6bdb6",
   "metadata": {},
   "outputs": [
    {
     "name": "stdout",
     "output_type": "stream",
     "text": [
      "0\n",
      "33\n",
      "0\n",
      "33\n"
     ]
    }
   ],
   "source": [
    "# rfind , rindex : check backwardsfrom string \n",
    "sentence = \"PanCakes are not good for health.PanCakes should be banned in world\"\n",
    "print(sentence.find(\"PanCakes\"))# find forward\n",
    "print(sentence.rfind(\"PanCakes\")) # find backward\n",
    "print(sentence.index(\"PanCakes\"))# find forward\n",
    "print(sentence.rindex(\"PanCakes\")) # find backward"
   ]
  },
  {
   "cell_type": "markdown",
   "id": "0e7579bd-97f0-47c7-80a0-c122aa197992",
   "metadata": {},
   "source": [
    "### Escape Sequences"
   ]
  },
  {
   "cell_type": "code",
   "execution_count": 39,
   "id": "2b07821e-6e6c-4982-9423-e39243a62a18",
   "metadata": {},
   "outputs": [
    {
     "ename": "SyntaxError",
     "evalue": "unterminated string literal (detected at line 1) (4101605314.py, line 1)",
     "output_type": "error",
     "traceback": [
      "  \u001b[36mCell\u001b[39m\u001b[36m \u001b[39m\u001b[32mIn[39]\u001b[39m\u001b[32m, line 1\u001b[39m\n\u001b[31m    \u001b[39m\u001b[31mwarning = \"That's my car'\u001b[39m\n              ^\n\u001b[31mSyntaxError\u001b[39m\u001b[31m:\u001b[39m unterminated string literal (detected at line 1)\n"
     ]
    }
   ],
   "source": [
    "warning = \"That's my car'"
   ]
  },
  {
   "cell_type": "code",
   "execution_count": 44,
   "id": "236e0fdc-cad4-4d8d-b2c2-648d19757c1c",
   "metadata": {},
   "outputs": [
    {
     "name": "stdout",
     "output_type": "stream",
     "text": [
      "That's my car\n",
      "That's my car\n"
     ]
    }
   ],
   "source": [
    "# Use / escape seauence \n",
    "warning = 'That\\'s my car'\n",
    "# Better Practice to Reduce Escape Sequence whenever possible \n",
    "warning2 = \"That's my car\"\n",
    "print(warning)\n",
    "print(warning2)"
   ]
  },
  {
   "cell_type": "code",
   "execution_count": 49,
   "id": "cbe2c524-7d0c-46ad-90cf-6b58aba414e0",
   "metadata": {},
   "outputs": [
    {
     "name": "stdout",
     "output_type": "stream",
     "text": [
      "\\n\n",
      "NewLine\n",
      "\n",
      "Hello World\n"
     ]
    }
   ],
   "source": [
    "# \\n - newline\n",
    "print(\"\\\\n\") # this will prints n\n",
    "print(\"NewLine\\n\") # Here Will be bewline\n",
    "print(\"Hello World\")"
   ]
  },
  {
   "cell_type": "code",
   "execution_count": 52,
   "id": "2393af29-af15-4b2b-84a3-cc20e7c13424",
   "metadata": {},
   "outputs": [
    {
     "name": "stdout",
     "output_type": "stream",
     "text": [
      "Hello\tWorld\n"
     ]
    }
   ],
   "source": [
    "# \\t = tabspace\n",
    "print(\"Hello\\tWorld\")"
   ]
  },
  {
   "cell_type": "code",
   "execution_count": 53,
   "id": "2f87dccc-0b6a-4cc7-83c9-17abec896580",
   "metadata": {},
   "outputs": [
    {
     "name": "stdout",
     "output_type": "stream",
     "text": [
      "World\n"
     ]
    }
   ],
   "source": [
    "# \\r - remove beginning\n",
    "print(\"Hello\\rWorld\")"
   ]
  },
  {
   "cell_type": "code",
   "execution_count": 54,
   "id": "42a70d61-8e77-4d4f-ae61-7df6147a6a86",
   "metadata": {},
   "outputs": [
    {
     "ename": "SyntaxError",
     "evalue": "unterminated string literal (detected at line 2); perhaps you escaped the end quote? (2934226215.py, line 2)",
     "output_type": "error",
     "traceback": [
      "  \u001b[36mCell\u001b[39m\u001b[36m \u001b[39m\u001b[32mIn[54]\u001b[39m\u001b[32m, line 2\u001b[39m\n\u001b[31m    \u001b[39m\u001b[31mprint(\"\\\")\u001b[39m\n          ^\n\u001b[31mSyntaxError\u001b[39m\u001b[31m:\u001b[39m unterminated string literal (detected at line 2); perhaps you escaped the end quote?\n"
     ]
    }
   ],
   "source": [
    "# \\ - syntax error You Cannot print backslash\n",
    "print(\"\\\")"
   ]
  },
  {
   "cell_type": "code",
   "execution_count": 55,
   "id": "6e33d241-0053-4e69-a8f9-c0e68dca121f",
   "metadata": {},
   "outputs": [
    {
     "name": "stdout",
     "output_type": "stream",
     "text": [
      "\\\n"
     ]
    }
   ],
   "source": [
    "# correct way for printing \\\n",
    "print(\"\\\\\")"
   ]
  },
  {
   "cell_type": "code",
   "execution_count": 58,
   "id": "047dbcc6-7c69-41da-9019-94e44fc2f420",
   "metadata": {},
   "outputs": [
    {
     "name": "stdout",
     "output_type": "stream",
     "text": [
      "That's my Car\n"
     ]
    },
    {
     "data": {
      "text/plain": [
       "'\"That\\'s my Car\"'"
      ]
     },
     "execution_count": 58,
     "metadata": {},
     "output_type": "execute_result"
    }
   ],
   "source": [
    "warning = 'That\\'s my Car'\n",
    "print(warning)\n",
    "repr(warning) # printable sequence exposing escape sequence"
   ]
  },
  {
   "cell_type": "markdown",
   "id": "5a427dfd-aba7-4086-af1d-ec230308143f",
   "metadata": {},
   "source": [
    "### String Formatting"
   ]
  },
  {
   "cell_type": "markdown",
   "id": "128842c7-87db-4aeb-ae65-3edf8cfd1358",
   "metadata": {},
   "source": [
    "#### String formatting is the feautre that allows variables values inserted into text"
   ]
  },
  {
   "cell_type": "code",
   "execution_count": 59,
   "id": "6f5e65ae-4461-4caf-8ffa-fe1fb5b6ec50",
   "metadata": {},
   "outputs": [
    {
     "name": "stdout",
     "output_type": "stream",
     "text": [
      "Hi my name was Ceaser, I'm 30 years old\n"
     ]
    }
   ],
   "source": [
    "# % operator \n",
    "name = \"Ceaser\"\n",
    "age = 30\n",
    "sentence = \"Hi my name was %s, I'm %d years old\" % (name,age) # old fashion\n",
    "print(sentence)"
   ]
  },
  {
   "cell_type": "code",
   "execution_count": 61,
   "id": "5ea80609-4f01-4637-824a-f4d9945a1f06",
   "metadata": {},
   "outputs": [
    {
     "name": "stdout",
     "output_type": "stream",
     "text": [
      "Hi my name is Ceaser , I'm 30 years old\n"
     ]
    }
   ],
   "source": [
    "# format method \n",
    "name = \"Ceaser\"\n",
    "age = 30\n",
    "sentence = \"Hi my name is {} , I'm {} years old\".format(name,age)\n",
    "print(sentence)"
   ]
  },
  {
   "cell_type": "code",
   "execution_count": 62,
   "id": "b3a45e0c-c739-4341-a29f-20544044cc20",
   "metadata": {},
   "outputs": [
    {
     "name": "stdout",
     "output_type": "stream",
     "text": [
      "Hi my name is Ceaser , I'm 30 years old\n"
     ]
    }
   ],
   "source": [
    "# format method  by index \n",
    "name = \"Ceaser\"\n",
    "age = 30\n",
    "sentence = \"Hi my name is {1} , I'm {0} years old\".format(age,name)\n",
    "print(sentence)"
   ]
  },
  {
   "cell_type": "code",
   "execution_count": 63,
   "id": "203775c9-2b7b-4cf4-b344-3147baa0dde7",
   "metadata": {},
   "outputs": [
    {
     "ename": "IndexError",
     "evalue": "Replacement index 2 out of range for positional args tuple",
     "output_type": "error",
     "traceback": [
      "\u001b[31m---------------------------------------------------------------------------\u001b[39m",
      "\u001b[31mIndexError\u001b[39m                                Traceback (most recent call last)",
      "\u001b[36mCell\u001b[39m\u001b[36m \u001b[39m\u001b[32mIn[63]\u001b[39m\u001b[32m, line 4\u001b[39m\n\u001b[32m      2\u001b[39m name = \u001b[33m\"\u001b[39m\u001b[33mCeaser\u001b[39m\u001b[33m\"\u001b[39m\n\u001b[32m      3\u001b[39m age = \u001b[32m30\u001b[39m\n\u001b[32m----> \u001b[39m\u001b[32m4\u001b[39m sentence = \u001b[33;43m\"\u001b[39;49m\u001b[33;43mHi my name is \u001b[39;49m\u001b[38;5;132;43;01m{2}\u001b[39;49;00m\u001b[33;43m , I\u001b[39;49m\u001b[33;43m'\u001b[39;49m\u001b[33;43mm \u001b[39;49m\u001b[38;5;132;43;01m{0}\u001b[39;49;00m\u001b[33;43m years old\u001b[39;49m\u001b[33;43m\"\u001b[39;49m\u001b[43m.\u001b[49m\u001b[43mformat\u001b[49m\u001b[43m(\u001b[49m\u001b[43mname\u001b[49m\u001b[43m,\u001b[49m\u001b[43mage\u001b[49m\u001b[43m)\u001b[49m\n\u001b[32m      5\u001b[39m \u001b[38;5;28mprint\u001b[39m(sentence)\n",
      "\u001b[31mIndexError\u001b[39m: Replacement index 2 out of range for positional args tuple"
     ]
    }
   ],
   "source": [
    "# format method  ilustration throws IndexError\n",
    "name = \"Ceaser\"\n",
    "age = 30\n",
    "sentence = \"Hi my name is {2} , I'm {0} years old\".format(name,age)\n",
    "print(sentence)"
   ]
  },
  {
   "cell_type": "code",
   "execution_count": 64,
   "id": "6ef634ca-fb98-4749-8b47-8c141ee68488",
   "metadata": {},
   "outputs": [
    {
     "name": "stdout",
     "output_type": "stream",
     "text": [
      "Hi my name is Ceaser , I'm 30 years old\n"
     ]
    }
   ],
   "source": [
    "# F-Strings \n",
    "# format method \n",
    "name = \"Ceaser\"\n",
    "age = 30\n",
    "sentence = f\"Hi my name is {name} , I'm {age} years old\"\n",
    "print(sentence)"
   ]
  },
  {
   "cell_type": "code",
   "execution_count": 1,
   "id": "f0b4bba8-7d36-49f0-9bd9-43d35a3da0ad",
   "metadata": {},
   "outputs": [
    {
     "name": "stdout",
     "output_type": "stream",
     "text": [
      "12.3\n",
      "12.346\n",
      "12.3456\n",
      "12.345600\n"
     ]
    }
   ],
   "source": [
    "# F String on decimal\n",
    "number = 12.3456\n",
    "print(f\"{number:.1f}\") # 1 floating places\n",
    "print(f\"{number:.3f}\") # 3 floating places\n",
    "print(f\"{number}\")\n",
    "print(f\"{number:.6f}\")# append zeros at right side of the decimal part to match flaoting places"
   ]
  },
  {
   "cell_type": "markdown",
   "id": "919530b5-1362-44b9-8290-3226954a86c0",
   "metadata": {},
   "source": [
    "### Splitting and joining in Strings and Lists"
   ]
  },
  {
   "cell_type": "code",
   "execution_count": 2,
   "id": "18a7a7ca-6e54-49bc-b816-48ddd6ccb994",
   "metadata": {},
   "outputs": [
    {
     "name": "stdout",
     "output_type": "stream",
     "text": [
      "['Coins', 'are', 'the', 'biggest', 'economy', 'relams', 'of', 'the', 'country']\n"
     ]
    }
   ],
   "source": [
    "# split the String into List by split() method\n",
    "sentence = \"Coins are the biggest economy relams of the country\"\n",
    "print(sentence.split())"
   ]
  },
  {
   "cell_type": "code",
   "execution_count": 6,
   "id": "aff57d46-5612-4652-a325-f75e6ac2afd2",
   "metadata": {},
   "outputs": [
    {
     "name": "stdout",
     "output_type": "stream",
     "text": [
      "userId = 112\n",
      "courseId = 202\n"
     ]
    }
   ],
   "source": [
    "# split(delimiter) -> splits based on delimiter \n",
    "# default delimiter is \" \"\n",
    "url = \"http:\\\\localhost:5012?userId=112&courseId=202\"\n",
    "url_list = url.split(\"?\")\n",
    "options = url_list[1].split(\"&\")\n",
    "for option in options:\n",
    "    opt = option.split(\"=\")\n",
    "    key = opt[0]\n",
    "    val = opt[1]\n",
    "    print(key,\"=\",val)"
   ]
  },
  {
   "cell_type": "code",
   "execution_count": 12,
   "id": "bcc7774c-f8a0-4cc6-80b7-064342057409",
   "metadata": {},
   "outputs": [
    {
     "data": {
      "text/plain": [
       "['John', 'is good guy']"
      ]
     },
     "execution_count": 12,
     "metadata": {},
     "output_type": "execute_result"
    }
   ],
   "source": [
    "# MAXSPLIT IT CAN SPLIT MAXIMUM F MAXSPLIT + 1 PARTS \n",
    "sentence = \"John is good guy\"\n",
    "sentence.split(\" \",1)"
   ]
  },
  {
   "cell_type": "code",
   "execution_count": 14,
   "id": "69ae4814-40eb-4fe6-afc9-a48838bb9a68",
   "metadata": {},
   "outputs": [
    {
     "name": "stdin",
     "output_type": "stream",
     "text": [
      "Enter the name and Age:  Ceaser 25\n"
     ]
    },
    {
     "name": "stdout",
     "output_type": "stream",
     "text": [
      "Name Ceaser\n",
      "Age 25\n"
     ]
    }
   ],
   "source": [
    "# when takin ginputs \n",
    "name , age = input(\"Enter the name and Age: \").split()\n",
    "print(\"Name\",name)\n",
    "print(\"Age\",age)"
   ]
  },
  {
   "cell_type": "code",
   "execution_count": 17,
   "id": "a8dbcb1d-48ea-49b5-b7a3-2305aeb6655c",
   "metadata": {},
   "outputs": [
    {
     "name": "stdout",
     "output_type": "stream",
     "text": [
      "apples oranges grapes banana\n",
      "apples->oranges->grapes->banana\n"
     ]
    }
   ],
   "source": [
    "# join the list \n",
    "# list should have only strings \n",
    "fruits = [\"apples\",\"oranges\",\"grapes\",\"banana\"]\n",
    "print(\" \".join(fruits)) \n",
    "print(\"->\".join(fruits))"
   ]
  },
  {
   "cell_type": "code",
   "execution_count": 19,
   "id": "4fbc344c-069f-4a85-ac24-eeb577b3d16e",
   "metadata": {},
   "outputs": [
    {
     "ename": "TypeError",
     "evalue": "sequence item 0: expected str instance, int found",
     "output_type": "error",
     "traceback": [
      "\u001b[31m---------------------------------------------------------------------------\u001b[39m",
      "\u001b[31mTypeError\u001b[39m                                 Traceback (most recent call last)",
      "\u001b[36mCell\u001b[39m\u001b[36m \u001b[39m\u001b[32mIn[19]\u001b[39m\u001b[32m, line 2\u001b[39m\n\u001b[32m      1\u001b[39m int_list = [\u001b[32m1\u001b[39m,\u001b[32m2\u001b[39m,\u001b[32m3\u001b[39m]\n\u001b[32m----> \u001b[39m\u001b[32m2\u001b[39m \u001b[33;43m\"\u001b[39;49m\u001b[33;43m \u001b[39;49m\u001b[33;43m\"\u001b[39;49m\u001b[43m.\u001b[49m\u001b[43mjoin\u001b[49m\u001b[43m(\u001b[49m\u001b[43mint_list\u001b[49m\u001b[43m)\u001b[49m\n",
      "\u001b[31mTypeError\u001b[39m: sequence item 0: expected str instance, int found"
     ]
    }
   ],
   "source": [
    "int_list = [1,2,3]\n",
    "\" \".join(int_list)"
   ]
  },
  {
   "cell_type": "code",
   "execution_count": 4,
   "id": "ac44745c-0a9e-4acb-9873-6d79f17e2f96",
   "metadata": {},
   "outputs": [
    {
     "data": {
      "text/plain": [
       "['Hello', ',My name', ' is Ceaser']"
      ]
     },
     "execution_count": 4,
     "metadata": {},
     "output_type": "execute_result"
    }
   ],
   "source": [
    "# splitlines to split based on escape sequence\n",
    "sentence = \"Hello\\r,My name\\r is Ceaser\"\n",
    "sentence.splitlines()"
   ]
  },
  {
   "cell_type": "code",
   "execution_count": 9,
   "id": "1e8b456f-7dc0-4846-8d82-c8ee81db2a09",
   "metadata": {},
   "outputs": [
    {
     "data": {
      "text/plain": [
       "['Hello', 'Aliens', 'are', 'Waiting!']"
      ]
     },
     "execution_count": 9,
     "metadata": {},
     "output_type": "execute_result"
    }
   ],
   "source": [
    "sentence = \"Hello\\nAliens\\nare\\nWaiting!\"\n",
    "sentence.splitlines()"
   ]
  },
  {
   "cell_type": "code",
   "execution_count": 17,
   "id": "110d4d84-7622-43f3-b735-12738b4d15d3",
   "metadata": {},
   "outputs": [
    {
     "data": {
      "text/plain": [
       "['Hello\\r', 'Aliens\\r', 'We\\r', \"won't\\r\", 'cause\\r', 'any\\r', 'trouble']"
      ]
     },
     "execution_count": 17,
     "metadata": {},
     "output_type": "execute_result"
    }
   ],
   "source": [
    "# keepend attribute to have escape sequence included default is False\n",
    "sentence = \"Hello\\rAliens\\rWe\\rwon't\\rcause\\rany\\rtrouble\"\n",
    "sentence.splitlines(keepends = True)"
   ]
  },
  {
   "cell_type": "code",
   "execution_count": 19,
   "id": "ac80a138-c200-409c-befd-c3951a9c558c",
   "metadata": {},
   "outputs": [
    {
     "data": {
      "text/plain": [
       "['store', 'the', 'message', 'in', 'lowercase']"
      ]
     },
     "execution_count": 19,
     "metadata": {},
     "output_type": "execute_result"
    }
   ],
   "source": [
    "# chaining of string methods \n",
    "sentence = \"Store the Message in LowerCase\"\n",
    "sentence.lower().split()"
   ]
  },
  {
   "cell_type": "markdown",
   "id": "80d3816e-c4cf-42b4-9414-1f80c6e5e021",
   "metadata": {},
   "source": [
    "### Print Function - > Seperator , End , Unpacking"
   ]
  },
  {
   "cell_type": "code",
   "execution_count": 22,
   "id": "5f3692bf-837d-46e2-93d5-2275dc779b66",
   "metadata": {},
   "outputs": [
    {
     "name": "stdout",
     "output_type": "stream",
     "text": [
      "Hello?World?to?the?humans\n"
     ]
    }
   ],
   "source": [
    "# sep ->seperated positional arguments by which seperator\n",
    "print(\"Hello\",\"World\",\"to\",\"the\",\"humans\",sep=\"?\")"
   ]
  },
  {
   "cell_type": "code",
   "execution_count": 23,
   "id": "83af0f50-452b-4c6e-bac3-10125bffc42f",
   "metadata": {},
   "outputs": [
    {
     "name": "stdout",
     "output_type": "stream",
     "text": [
      "Hello?World\n"
     ]
    }
   ],
   "source": [
    "# end -> seperate arguments end of print statement\n",
    "print(\"Hello\",end=\"?\")\n",
    "print(\"World\")"
   ]
  },
  {
   "cell_type": "code",
   "execution_count": 29,
   "id": "01557fe9-309c-42f3-827f-f9d119db0bc9",
   "metadata": {},
   "outputs": [
    {
     "name": "stdout",
     "output_type": "stream",
     "text": [
      "apples oranges grapes\n"
     ]
    }
   ],
   "source": [
    "#unpacking iterator\n",
    "fruits = [\"apples\",\"oranges\",\"grapes\"]\n",
    "print(*fruits)"
   ]
  },
  {
   "cell_type": "markdown",
   "id": "698bce6e-e5c4-4421-9ece-85eb04a2114a",
   "metadata": {},
   "source": [
    "### string module"
   ]
  },
  {
   "cell_type": "code",
   "execution_count": 30,
   "id": "97eae8f5-f47f-448c-8e79-381b483eff7d",
   "metadata": {},
   "outputs": [
    {
     "data": {
      "text/plain": [
       "'abcdefghijklmnopqrstuvwxyz'"
      ]
     },
     "execution_count": 30,
     "metadata": {},
     "output_type": "execute_result"
    }
   ],
   "source": [
    "import string \n",
    "string.ascii_lowercase"
   ]
  },
  {
   "cell_type": "code",
   "execution_count": 31,
   "id": "768ee476-3880-4fe6-845e-a1b85ae2f1b2",
   "metadata": {},
   "outputs": [
    {
     "data": {
      "text/plain": [
       "'ABCDEFGHIJKLMNOPQRSTUVWXYZ'"
      ]
     },
     "execution_count": 31,
     "metadata": {},
     "output_type": "execute_result"
    }
   ],
   "source": [
    "string.ascii_uppercase"
   ]
  },
  {
   "cell_type": "code",
   "execution_count": 32,
   "id": "b532b857-53c7-4a4a-917d-18ee5b2dd1cf",
   "metadata": {},
   "outputs": [
    {
     "data": {
      "text/plain": [
       "'abcdefghijklmnopqrstuvwxyzABCDEFGHIJKLMNOPQRSTUVWXYZ'"
      ]
     },
     "execution_count": 32,
     "metadata": {},
     "output_type": "execute_result"
    }
   ],
   "source": [
    "string.ascii_letters"
   ]
  },
  {
   "cell_type": "code",
   "execution_count": 33,
   "id": "aa4a2aa7-d182-4e20-ac7b-b367230e6a6d",
   "metadata": {},
   "outputs": [
    {
     "data": {
      "text/plain": [
       "'0123456789'"
      ]
     },
     "execution_count": 33,
     "metadata": {},
     "output_type": "execute_result"
    }
   ],
   "source": [
    "string.digits"
   ]
  },
  {
   "cell_type": "code",
   "execution_count": 34,
   "id": "89b4ca7a-6b0d-4f41-85d6-973437b71242",
   "metadata": {},
   "outputs": [
    {
     "data": {
      "text/plain": [
       "'01234567'"
      ]
     },
     "execution_count": 34,
     "metadata": {},
     "output_type": "execute_result"
    }
   ],
   "source": [
    "string.octdigits"
   ]
  },
  {
   "cell_type": "code",
   "execution_count": 35,
   "id": "4a9ea6b0-2be3-4cc9-b432-3cd1efcb12a4",
   "metadata": {},
   "outputs": [
    {
     "data": {
      "text/plain": [
       "'0123456789abcdefABCDEF'"
      ]
     },
     "execution_count": 35,
     "metadata": {},
     "output_type": "execute_result"
    }
   ],
   "source": [
    "string.hexdigits"
   ]
  },
  {
   "cell_type": "code",
   "execution_count": 36,
   "id": "d96860da-5cc8-43f3-9b22-8e5268639358",
   "metadata": {},
   "outputs": [
    {
     "data": {
      "text/plain": [
       "'0123456789abcdefghijklmnopqrstuvwxyzABCDEFGHIJKLMNOPQRSTUVWXYZ!\"#$%&\\'()*+,-./:;<=>?@[\\\\]^_`{|}~ \\t\\n\\r\\x0b\\x0c'"
      ]
     },
     "execution_count": 36,
     "metadata": {},
     "output_type": "execute_result"
    }
   ],
   "source": [
    "string.printable"
   ]
  },
  {
   "cell_type": "code",
   "execution_count": 37,
   "id": "3fbc9b18-39a0-4831-8992-8371d049c167",
   "metadata": {},
   "outputs": [
    {
     "data": {
      "text/plain": [
       "'!\"#$%&\\'()*+,-./:;<=>?@[\\\\]^_`{|}~'"
      ]
     },
     "execution_count": 37,
     "metadata": {},
     "output_type": "execute_result"
    }
   ],
   "source": [
    "string.punctuation"
   ]
  },
  {
   "cell_type": "code",
   "execution_count": 38,
   "id": "1ce9b801-413b-4541-9195-7a52a840d171",
   "metadata": {},
   "outputs": [
    {
     "data": {
      "text/plain": [
       "' \\t\\n\\r\\x0b\\x0c'"
      ]
     },
     "execution_count": 38,
     "metadata": {},
     "output_type": "execute_result"
    }
   ],
   "source": [
    "string.whitespace"
   ]
  },
  {
   "cell_type": "code",
   "execution_count": 45,
   "id": "5a00169c-e2db-445e-a11c-8bd8227d8a73",
   "metadata": {},
   "outputs": [
    {
     "name": "stdout",
     "output_type": "stream",
     "text": [
      "Hell,world,to,environment\n"
     ]
    }
   ],
   "source": [
    "sentence = \"hell,world,to,environment\"\n",
    "print(string.capwords(sentence),sep=\",\")"
   ]
  },
  {
   "cell_type": "markdown",
   "id": "e2ad6cde-ff7c-4035-bc13-7ae9271feddb",
   "metadata": {},
   "source": [
    "### template String \n",
    "A Tool used for String Formatting"
   ]
  },
  {
   "cell_type": "code",
   "execution_count": 47,
   "id": "90217f31-ee48-484f-aba7-2a14849d4a43",
   "metadata": {},
   "outputs": [
    {
     "name": "stdin",
     "output_type": "stream",
     "text": [
      "Enter name ceaser\n"
     ]
    },
    {
     "name": "stdout",
     "output_type": "stream",
     "text": [
      "Hello, ceaser\n"
     ]
    }
   ],
   "source": [
    "my_template = string.Template(\"Hello, $name\")\n",
    "name = input(\"Enter name\")\n",
    "welcome_message = my_template.substitute(name = name)\n",
    "print(welcome_message)"
   ]
  },
  {
   "cell_type": "code",
   "execution_count": null,
   "id": "8496e8c5-3273-4c43-959a-4ada65b810c8",
   "metadata": {},
   "outputs": [],
   "source": []
  }
 ],
 "metadata": {
  "kernelspec": {
   "display_name": "Python 3 (ipykernel)",
   "language": "python",
   "name": "python3"
  },
  "language_info": {
   "codemirror_mode": {
    "name": "ipython",
    "version": 3
   },
   "file_extension": ".py",
   "mimetype": "text/x-python",
   "name": "python",
   "nbconvert_exporter": "python",
   "pygments_lexer": "ipython3",
   "version": "3.14.0"
  }
 },
 "nbformat": 4,
 "nbformat_minor": 5
}
