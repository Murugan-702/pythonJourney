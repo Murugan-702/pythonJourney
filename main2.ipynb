{
 "cells": [
  {
   "cell_type": "markdown",
   "id": "6d01aeac",
   "metadata": {},
   "source": [
    "## Python Programming Basics Part 1\n",
    "#### Lesson 3 Working with Numbers Basic"
   ]
  },
  {
   "cell_type": "code",
   "execution_count": 1,
   "id": "c16cf761",
   "metadata": {},
   "outputs": [
    {
     "name": "stdout",
     "output_type": "stream",
     "text": [
      "8\n"
     ]
    }
   ],
   "source": [
    "# Exponentation : rasises power by number\n",
    "a , b = 2 , 3\n",
    "print(a**b)"
   ]
  },
  {
   "cell_type": "code",
   "execution_count": 2,
   "id": "c7ded022",
   "metadata": {},
   "outputs": [
    {
     "name": "stdout",
     "output_type": "stream",
     "text": [
      "144\n",
      "1728\n"
     ]
    }
   ],
   "source": [
    "# Squares and Cubes\n",
    "print(12**2)\n",
    "print(12**3)"
   ]
  },
  {
   "cell_type": "code",
   "execution_count": 4,
   "id": "bacca45c",
   "metadata": {},
   "outputs": [
    {
     "name": "stdout",
     "output_type": "stream",
     "text": [
      "remainder 1\n",
      "remainder -2\n"
     ]
    }
   ],
   "source": [
    "dividend = 10\n",
    "divisor = 3\n",
    "remainder = dividend % divisor\n",
    "print(\"remainder\",remainder)\n",
    "remainder = dividend % (-1 * divisor)\n",
    "print(\"remainder\",remainder)"
   ]
  },
  {
   "cell_type": "markdown",
   "id": "d9a074c9",
   "metadata": {},
   "source": [
    "#### Infinity Constants\n",
    "infinity constants greater than any real number in python"
   ]
  },
  {
   "cell_type": "code",
   "execution_count": 5,
   "id": "18398a47",
   "metadata": {},
   "outputs": [
    {
     "ename": "OverflowError",
     "evalue": "int too large to convert to float",
     "output_type": "error",
     "traceback": [
      "\u001b[1;31m---------------------------------------------------------------------------\u001b[0m",
      "\u001b[1;31mOverflowError\u001b[0m                             Traceback (most recent call last)",
      "Cell \u001b[1;32mIn[5], line 1\u001b[0m\n\u001b[1;32m----> 1\u001b[0m \u001b[38;5;28mprint\u001b[39m(\u001b[38;5;28;43mfloat\u001b[39;49m\u001b[43m(\u001b[49m\u001b[38;5;241;43m10\u001b[39;49m\u001b[43m \u001b[49m\u001b[38;5;241;43m*\u001b[39;49m\u001b[38;5;241;43m*\u001b[39;49m\u001b[43m \u001b[49m\u001b[38;5;241;43m3000\u001b[39;49m\u001b[43m)\u001b[49m)\n",
      "\u001b[1;31mOverflowError\u001b[0m: int too large to convert to float"
     ]
    }
   ],
   "source": [
    "print(float(10 ** 3000))"
   ]
  },
  {
   "cell_type": "code",
   "execution_count": null,
   "id": "2de436bf",
   "metadata": {},
   "outputs": [
    {
     "name": "stdout",
     "output_type": "stream",
     "text": [
      "inf\n"
     ]
    }
   ],
   "source": [
    "print(float(\"1e3000\")) # inf "
   ]
  },
  {
   "cell_type": "code",
   "execution_count": 7,
   "id": "4b01a6b5",
   "metadata": {},
   "outputs": [
    {
     "name": "stdout",
     "output_type": "stream",
     "text": [
      "inf\n"
     ]
    }
   ],
   "source": [
    "print(float(\"INFINITY\"))"
   ]
  },
  {
   "cell_type": "code",
   "execution_count": 9,
   "id": "9c71a815",
   "metadata": {},
   "outputs": [
    {
     "data": {
      "text/plain": [
       "inf"
      ]
     },
     "execution_count": 9,
     "metadata": {},
     "output_type": "execute_result"
    }
   ],
   "source": [
    "inf = float(\"inf\")\n",
    "inf + inf"
   ]
  },
  {
   "cell_type": "code",
   "execution_count": 10,
   "id": "41207a97",
   "metadata": {},
   "outputs": [
    {
     "data": {
      "text/plain": [
       "inf"
      ]
     },
     "execution_count": 10,
     "metadata": {},
     "output_type": "execute_result"
    }
   ],
   "source": [
    "inf + 1"
   ]
  },
  {
   "cell_type": "code",
   "execution_count": null,
   "id": "5c3bb9db",
   "metadata": {},
   "outputs": [
    {
     "name": "stdout",
     "output_type": "stream",
     "text": [
      "inf\n"
     ]
    }
   ],
   "source": [
    "# Addition of Infinity results inf\n",
    "add = inf + inf \n",
    "print(add)"
   ]
  },
  {
   "cell_type": "code",
   "execution_count": null,
   "id": "9ef172c8",
   "metadata": {},
   "outputs": [
    {
     "name": "stdout",
     "output_type": "stream",
     "text": [
      "nan\n"
     ]
    }
   ],
   "source": [
    "# Subraction of Infinity with Infinity results nan\n",
    "sub = inf - inf \n",
    "print(sub)"
   ]
  },
  {
   "cell_type": "code",
   "execution_count": null,
   "id": "96b3dd74",
   "metadata": {},
   "outputs": [
    {
     "name": "stdout",
     "output_type": "stream",
     "text": [
      "inf\n",
      "inf\n"
     ]
    }
   ],
   "source": [
    "# Add and Subract with constants\n",
    "print(inf + 1) \n",
    "print(inf-1)"
   ]
  },
  {
   "cell_type": "code",
   "execution_count": 15,
   "id": "aea9c561",
   "metadata": {},
   "outputs": [
    {
     "name": "stdout",
     "output_type": "stream",
     "text": [
      "-inf\n",
      "-inf\n"
     ]
    }
   ],
   "source": [
    "# -inf results with constants and then -inf\n",
    "print(-inf-1)\n",
    "print(-inf-inf)"
   ]
  },
  {
   "cell_type": "code",
   "execution_count": 16,
   "id": "be2d3421",
   "metadata": {},
   "outputs": [
    {
     "name": "stdout",
     "output_type": "stream",
     "text": [
      "inf\n",
      "-inf\n",
      "-inf\n",
      "inf\n"
     ]
    }
   ],
   "source": [
    "# Multiply\n",
    "print(inf * 1)\n",
    "print(inf * -1)\n",
    "print(-inf * 1)\n",
    "print(-inf * -inf)"
   ]
  },
  {
   "cell_type": "code",
   "execution_count": null,
   "id": "fcbe97c8",
   "metadata": {},
   "outputs": [
    {
     "name": "stdout",
     "output_type": "stream",
     "text": [
      "inf\n",
      "0.0\n"
     ]
    }
   ],
   "source": [
    "# Division\n",
    "print(inf / 1)\n",
    "print(1 / inf) # results 0.0"
   ]
  },
  {
   "cell_type": "code",
   "execution_count": null,
   "id": "751c283e",
   "metadata": {},
   "outputs": [
    {
     "name": "stdout",
     "output_type": "stream",
     "text": [
      "nan\n",
      "0.0\n"
     ]
    }
   ],
   "source": [
    "# Integer Division\n",
    "print(inf // 1) # nan\n",
    "print(1 // inf)"
   ]
  },
  {
   "cell_type": "code",
   "execution_count": 19,
   "id": "cf76b52d",
   "metadata": {},
   "outputs": [
    {
     "ename": "ZeroDivisionError",
     "evalue": "float floor division by zero",
     "output_type": "error",
     "traceback": [
      "\u001b[1;31m---------------------------------------------------------------------------\u001b[0m",
      "\u001b[1;31mZeroDivisionError\u001b[0m                         Traceback (most recent call last)",
      "Cell \u001b[1;32mIn[19], line 2\u001b[0m\n\u001b[0;32m      1\u001b[0m \u001b[38;5;66;03m# Zero Division Error\u001b[39;00m\n\u001b[1;32m----> 2\u001b[0m \u001b[38;5;28mprint\u001b[39m(\u001b[38;5;241;43m1\u001b[39;49m\u001b[38;5;241;43m/\u001b[39;49m\u001b[38;5;241;43m/\u001b[39;49m\u001b[38;5;241;43m0.0\u001b[39;49m)\n",
      "\u001b[1;31mZeroDivisionError\u001b[0m: float floor division by zero"
     ]
    }
   ],
   "source": [
    "# Zero Division Error\n",
    "print(1//0.0)"
   ]
  },
  {
   "cell_type": "markdown",
   "id": "9c4dcdd3",
   "metadata": {},
   "source": [
    "Floating Point Numbers have special value Nan "
   ]
  },
  {
   "cell_type": "code",
   "execution_count": 21,
   "id": "41363614",
   "metadata": {},
   "outputs": [
    {
     "name": "stdout",
     "output_type": "stream",
     "text": [
      "nan\n",
      "inf\n"
     ]
    }
   ],
   "source": [
    "import math\n",
    "# none value\n",
    "val = math.nan\n",
    "print(val)\n",
    "# infinity value \n",
    "inf = math.inf\n",
    "print(inf)"
   ]
  },
  {
   "cell_type": "code",
   "execution_count": 23,
   "id": "1e236a2b",
   "metadata": {},
   "outputs": [
    {
     "name": "stdout",
     "output_type": "stream",
     "text": [
      "False\n",
      "True\n"
     ]
    }
   ],
   "source": [
    "# check it is nan \n",
    "print(math.isnan(0))\n",
    "print(math.isnan(math.nan))"
   ]
  },
  {
   "cell_type": "code",
   "execution_count": 24,
   "id": "73dd4f6c",
   "metadata": {},
   "outputs": [
    {
     "name": "stdout",
     "output_type": "stream",
     "text": [
      "True\n"
     ]
    }
   ],
   "source": [
    "# check it is infinity or not \n",
    "print(math.isinf(math.inf))"
   ]
  },
  {
   "cell_type": "code",
   "execution_count": 25,
   "id": "ad71d115",
   "metadata": {},
   "outputs": [
    {
     "name": "stdout",
     "output_type": "stream",
     "text": [
      "False\n",
      "True\n"
     ]
    }
   ],
   "source": [
    "# isfinite : it is not specified as float values \n",
    "print(math.isfinite(math.nan))\n",
    "print(math.isfinite(12.00))"
   ]
  },
  {
   "cell_type": "markdown",
   "id": "18831981",
   "metadata": {},
   "source": [
    "Module : It is Simply File containing Python Statements and Definitions , It has ability to load or import one module to another"
   ]
  },
  {
   "cell_type": "code",
   "execution_count": 26,
   "id": "3e159463",
   "metadata": {},
   "outputs": [],
   "source": [
    "import math "
   ]
  },
  {
   "cell_type": "code",
   "execution_count": 27,
   "id": "c70417e6",
   "metadata": {},
   "outputs": [],
   "source": [
    "from math import sqrt"
   ]
  },
  {
   "cell_type": "markdown",
   "id": "c4495acc",
   "metadata": {},
   "source": [
    "Math Module : Peforms Advanced Arithemetic Operations"
   ]
  },
  {
   "cell_type": "code",
   "execution_count": null,
   "id": "65887392",
   "metadata": {},
   "outputs": [
    {
     "name": "stdout",
     "output_type": "stream",
     "text": [
      "x =  12 y = -13\n",
      "Absolute Value of 12 is 12.0\n",
      "Absolute Value of -13 is 13.0\n",
      "The Power of 12 and -13 is 9.346387898717924e-15\n"
     ]
    }
   ],
   "source": [
    "import math \n",
    "\n",
    "x = int(input())\n",
    "y = int(input())\n",
    "print(\"x = \",x,\"y =\",y)\n",
    "print(f\"Absolute Value of {x} is {math.fabs(x)}\")\n",
    "print(f\"Absolute Value of {y} is {math.fabs(y)}\")\n",
    "print(f\"The Power of {x} and {y} is {math.pow(x,y)}\")"
   ]
  },
  {
   "cell_type": "code",
   "execution_count": 31,
   "id": "47a113b1",
   "metadata": {},
   "outputs": [
    {
     "data": {
      "text/plain": [
       "12"
      ]
     },
     "execution_count": 31,
     "metadata": {},
     "output_type": "execute_result"
    }
   ],
   "source": [
    "# Absolute \n",
    "abs(-12)"
   ]
  },
  {
   "cell_type": "code",
   "execution_count": null,
   "id": "9bd5d9be",
   "metadata": {},
   "outputs": [
    {
     "data": {
      "text/plain": [
       "234"
      ]
     },
     "execution_count": 33,
     "metadata": {},
     "output_type": "execute_result"
    }
   ],
   "source": [
    "max(1,234,134,2) # maximum"
   ]
  },
  {
   "cell_type": "code",
   "execution_count": null,
   "id": "d9631dc1",
   "metadata": {},
   "outputs": [
    {
     "data": {
      "text/plain": [
       "-214"
      ]
     },
     "execution_count": 34,
     "metadata": {},
     "output_type": "execute_result"
    }
   ],
   "source": [
    "min(1,234,-214,2) # minium"
   ]
  },
  {
   "cell_type": "code",
   "execution_count": null,
   "id": "aa6e34b1",
   "metadata": {},
   "outputs": [
    {
     "data": {
      "text/plain": [
       "10.0"
      ]
     },
     "execution_count": 37,
     "metadata": {},
     "output_type": "execute_result"
    }
   ],
   "source": [
    "round(10.0000,4)#  round "
   ]
  },
  {
   "cell_type": "code",
   "execution_count": null,
   "id": "348b3dc7",
   "metadata": {},
   "outputs": [
    {
     "data": {
      "text/plain": [
       "12"
      ]
     },
     "execution_count": 43,
     "metadata": {},
     "output_type": "execute_result"
    }
   ],
   "source": [
    "# floor and ceil \n",
    "math.floor(12.5) # floor -> nearest integer lesser or equal to x"
   ]
  },
  {
   "cell_type": "code",
   "execution_count": null,
   "id": "9067d1ec",
   "metadata": {},
   "outputs": [
    {
     "data": {
      "text/plain": [
       "14"
      ]
     },
     "execution_count": 44,
     "metadata": {},
     "output_type": "execute_result"
    }
   ],
   "source": [
    "math.ceil(13.3) # ceil -> greatest integer greater than or equal to x"
   ]
  },
  {
   "cell_type": "code",
   "execution_count": 45,
   "id": "73a60ca4",
   "metadata": {},
   "outputs": [
    {
     "name": "stdout",
     "output_type": "stream",
     "text": [
      "10.0\n"
     ]
    }
   ],
   "source": [
    "# find y when power is known\n",
    "x = 2\n",
    "z = 1024 \n",
    "y = math.log(z,x)\n",
    "print(y)"
   ]
  },
  {
   "cell_type": "code",
   "execution_count": 49,
   "id": "50c9f0cf",
   "metadata": {},
   "outputs": [
    {
     "name": "stdout",
     "output_type": "stream",
     "text": [
      "We are going to write prime numbers between 1 and 100\n",
      "2 , 3 , 5 , 7 , 11 , 13 , 17 , 19 , 23 , 29 , 31 , 37 , 41 , 43 , 47 , 53 , 59 , 61 , 67 , 71 , 73 , 79 , 83 , 89 , 97 , \n",
      " The Count of Prime numbers is 25\n"
     ]
    }
   ],
   "source": [
    "# find prime \n",
    "import math \n",
    "n = int(input(\"Enter the Integer : \"))\n",
    "print(f\"We are going to write prime numbers between 1 and {n}\")\n",
    "cnt = 0\n",
    "for i in range(2,n+1):\n",
    "    isPrime = True\n",
    "    for j in range(2,int(math.sqrt(i))+1):\n",
    "        if i % j == 0:\n",
    "            isPrime = False\n",
    "            break\n",
    "    if isPrime:\n",
    "        print(i,end =\" , \")\n",
    "        cnt+=1\n",
    "print(f\"\\n The Count of Prime numbers is {cnt}\")"
   ]
  },
  {
   "cell_type": "code",
   "execution_count": null,
   "id": "6493ef9f",
   "metadata": {},
   "outputs": [
    {
     "data": {
      "text/plain": [
       "1.5707963267948966"
      ]
     },
     "execution_count": 52,
     "metadata": {},
     "output_type": "execute_result"
    }
   ],
   "source": [
    "# Gemetry \n",
    "math.radians(90) # degree to radians"
   ]
  },
  {
   "cell_type": "code",
   "execution_count": 59,
   "id": "8154d982",
   "metadata": {},
   "outputs": [
    {
     "data": {
      "text/plain": [
       "89.95437383553924"
      ]
     },
     "execution_count": 59,
     "metadata": {},
     "output_type": "execute_result"
    }
   ],
   "source": [
    "math.degrees(1.57) # radians to degrees"
   ]
  },
  {
   "cell_type": "code",
   "execution_count": null,
   "id": "12020f13",
   "metadata": {},
   "outputs": [
    {
     "data": {
      "text/plain": [
       "1.0"
      ]
     },
     "execution_count": 56,
     "metadata": {},
     "output_type": "execute_result"
    }
   ],
   "source": [
    "math.sin(math.radians(90)) # sine in radians"
   ]
  },
  {
   "cell_type": "code",
   "execution_count": null,
   "id": "06c865fd",
   "metadata": {},
   "outputs": [
    {
     "data": {
      "text/plain": [
       "-1.0"
      ]
     },
     "execution_count": 58,
     "metadata": {},
     "output_type": "execute_result"
    }
   ],
   "source": [
    "math.cos(math.radians(180)) # cosine in radians"
   ]
  },
  {
   "cell_type": "code",
   "execution_count": 62,
   "id": "d3f6d575",
   "metadata": {},
   "outputs": [
    {
     "name": "stdout",
     "output_type": "stream",
     "text": [
      "Area of Circle is  452.39\n"
     ]
    }
   ],
   "source": [
    "# Area of Circle pi * radius * radius \n",
    "import math\n",
    "radius = float(input(\"Enter the Radius of Circle\"))\n",
    "area = math.pi * pow(radius,2)\n",
    "print(\"Area of Circle is \",round(area,2))"
   ]
  },
  {
   "cell_type": "markdown",
   "id": "8aa5c91c",
   "metadata": {},
   "source": [
    "### Random Module"
   ]
  },
  {
   "cell_type": "markdown",
   "id": "6d04fecc",
   "metadata": {},
   "source": [
    "Random Module deals with stastics and probability , modelling, machine learning"
   ]
  },
  {
   "cell_type": "markdown",
   "id": "16136f04",
   "metadata": {},
   "source": [
    "These module is pseudo random because there is value called seed is used to predict the values"
   ]
  },
  {
   "cell_type": "code",
   "execution_count": 67,
   "id": "3910f881",
   "metadata": {},
   "outputs": [
    {
     "name": "stdout",
     "output_type": "stream",
     "text": [
      "0.9228081463146651\n"
     ]
    }
   ],
   "source": [
    "# import random module and take random value from 0 to 1\n",
    "import random \n",
    "print(random.random()) # prints the value between 0 and 1"
   ]
  },
  {
   "cell_type": "code",
   "execution_count": 73,
   "id": "b86fa494",
   "metadata": {},
   "outputs": [
    {
     "data": {
      "text/plain": [
       "0.6229016948897019"
      ]
     },
     "execution_count": 73,
     "metadata": {},
     "output_type": "execute_result"
    }
   ],
   "source": [
    "random.seed(5) #internal state\n",
    "random.random()"
   ]
  },
  {
   "cell_type": "code",
   "execution_count": 74,
   "id": "bf7abbe8",
   "metadata": {},
   "outputs": [
    {
     "data": {
      "text/plain": [
       "74.95333795829075"
      ]
     },
     "execution_count": 74,
     "metadata": {},
     "output_type": "execute_result"
    }
   ],
   "source": [
    "# random float number between x and y \n",
    "random.uniform(3,100)"
   ]
  },
  {
   "cell_type": "code",
   "execution_count": null,
   "id": "f3a8eab2",
   "metadata": {},
   "outputs": [
    {
     "data": {
      "text/plain": [
       "91"
      ]
     },
     "execution_count": 75,
     "metadata": {},
     "output_type": "execute_result"
    }
   ],
   "source": [
    "# random integer number from x and y\n",
    "random.randint(3,100) # here last value is included"
   ]
  },
  {
   "cell_type": "code",
   "execution_count": 78,
   "id": "5dde70ac",
   "metadata": {},
   "outputs": [
    {
     "data": {
      "text/plain": [
       "88"
      ]
     },
     "execution_count": 78,
     "metadata": {},
     "output_type": "execute_result"
    }
   ],
   "source": [
    "# Pseudo Random number  range from  x to y -1 with step z \n",
    "random.randrange(1,100,3)"
   ]
  },
  {
   "cell_type": "code",
   "execution_count": 79,
   "id": "05652e36",
   "metadata": {},
   "outputs": [
    {
     "data": {
      "text/plain": [
       "1"
      ]
     },
     "execution_count": 79,
     "metadata": {},
     "output_type": "execute_result"
    }
   ],
   "source": [
    "# Breif about Lists \n",
    "ans = [1,2,3]\n",
    "ans[0] # access by index "
   ]
  },
  {
   "cell_type": "code",
   "execution_count": 80,
   "id": "b3bfefb6",
   "metadata": {},
   "outputs": [
    {
     "data": {
      "text/plain": [
       "3"
      ]
     },
     "execution_count": 80,
     "metadata": {},
     "output_type": "execute_result"
    }
   ],
   "source": [
    "ans = [1,2,3]\n",
    "len(ans) # length of list"
   ]
  },
  {
   "cell_type": "code",
   "execution_count": 81,
   "id": "acea18db",
   "metadata": {},
   "outputs": [
    {
     "name": "stdout",
     "output_type": "stream",
     "text": [
      "[1, 2, 3]\n",
      "1\n",
      "2\n",
      "3\n"
     ]
    }
   ],
   "source": [
    "print(ans)\n",
    "for i in ans:\n",
    "    print(i)"
   ]
  },
  {
   "cell_type": "code",
   "execution_count": 82,
   "id": "f05027e4",
   "metadata": {},
   "outputs": [
    {
     "name": "stdout",
     "output_type": "stream",
     "text": [
      "Before Shuffling [1, 2, 3, 4, 5]\n",
      "After Shuffling [5, 3, 4, 1, 2]\n"
     ]
    }
   ],
   "source": [
    "# shuffle the list \n",
    "a = [1,2,3,4,5]\n",
    "print(\"Before Shuffling\",a)\n",
    "random.shuffle(a)\n",
    "print(\"After Shuffling\",a)"
   ]
  },
  {
   "cell_type": "code",
   "execution_count": null,
   "id": "ae232470",
   "metadata": {},
   "outputs": [
    {
     "data": {
      "text/plain": [
       "[47, 60, 31]"
      ]
     },
     "execution_count": 83,
     "metadata": {},
     "output_type": "execute_result"
    }
   ],
   "source": [
    "lst = [i for i in range(100)]\n",
    "random.sample(lst,3) # take sample of k values"
   ]
  },
  {
   "cell_type": "code",
   "execution_count": null,
   "id": "210cf3ca",
   "metadata": {},
   "outputs": [],
   "source": []
  }
 ],
 "metadata": {
  "kernelspec": {
   "display_name": "Python 3",
   "language": "python",
   "name": "python3"
  },
  "language_info": {
   "codemirror_mode": {
    "name": "ipython",
    "version": 3
   },
   "file_extension": ".py",
   "mimetype": "text/x-python",
   "name": "python",
   "nbconvert_exporter": "python",
   "pygments_lexer": "ipython3",
   "version": "3.12.5"
  }
 },
 "nbformat": 4,
 "nbformat_minor": 5
}
