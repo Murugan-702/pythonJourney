{
 "cells": [
  {
   "cell_type": "markdown",
   "id": "565d4de6",
   "metadata": {},
   "source": [
    "## Python Programming Basics Part 1"
   ]
  },
  {
   "cell_type": "markdown",
   "id": "3dd1a474",
   "metadata": {},
   "source": [
    "#### Lesson 2:  Conditional Statements & Looping Statements & Functions"
   ]
  },
  {
   "cell_type": "markdown",
   "id": "9c0b73f5",
   "metadata": {},
   "source": [
    "Conditional Statement : type of Control flow Statement allows execute block of code based on conditions True or False"
   ]
  },
  {
   "cell_type": "code",
   "execution_count": 2,
   "id": "9ac3c260",
   "metadata": {},
   "outputs": [
    {
     "name": "stdout",
     "output_type": "stream",
     "text": [
      "12\n",
      "Even\n"
     ]
    }
   ],
   "source": [
    "# if statement\n",
    "number = int(input(\"Enter number: \"))\n",
    "print(number)\n",
    "if number % 2  == 0:\n",
    "    print(\"Even\")"
   ]
  },
  {
   "cell_type": "code",
   "execution_count": 3,
   "id": "9103940b",
   "metadata": {},
   "outputs": [
    {
     "name": "stdout",
     "output_type": "stream",
     "text": [
      "13\n",
      "Odd\n"
     ]
    }
   ],
   "source": [
    "# if else statement \n",
    "number = int(input(\"Enter number: \"))\n",
    "print(number)\n",
    "if number % 2 == 0:\n",
    "    print(\"Even\")\n",
    "else:\n",
    "    print(\"Odd\")"
   ]
  },
  {
   "cell_type": "code",
   "execution_count": 5,
   "id": "d276256b",
   "metadata": {},
   "outputs": [
    {
     "name": "stdout",
     "output_type": "stream",
     "text": [
      "Try again !!!\n"
     ]
    }
   ],
   "source": [
    "# elif \n",
    "mark = float(input(\"Enter score\"))\n",
    "if mark < 0.0:\n",
    "    print(\"Invalid mark\")\n",
    "elif mark < 35.0:\n",
    "    print(\"Try again !!!\")\n",
    "elif mark <= 45:\n",
    "    print(\"Try Harder !!!\")\n",
    "elif mark <= 55:\n",
    "    print(\"Below Average\")\n",
    "elif mark <= 65:\n",
    "    print(\"Average\")\n",
    "elif mark <= 75:\n",
    "    print(\"Above Average\")\n",
    "elif mark <= 85:\n",
    "    print(\"Super !!!\")\n",
    "elif mark <= 95:\n",
    "    print(\"Excellent\")\n"
   ]
  },
  {
   "cell_type": "markdown",
   "id": "cb5889db",
   "metadata": {},
   "source": [
    "Python is Strongly typed langauge only run time objects (value) holds the type not variables"
   ]
  },
  {
   "cell_type": "markdown",
   "id": "afcd2e19",
   "metadata": {},
   "source": [
    "Type Coercion : Automatic Conversion of one data type to anotherallowing two operands of two different types combines in operation"
   ]
  },
  {
   "cell_type": "markdown",
   "id": "3b302908",
   "metadata": {},
   "source": [
    "### Looping Statements"
   ]
  },
  {
   "cell_type": "markdown",
   "id": "b792fe1a",
   "metadata": {},
   "source": [
    "Iteration : The Process of Repeatative execution of same block of code"
   ]
  },
  {
   "cell_type": "markdown",
   "id": "8f90a9be",
   "metadata": {},
   "source": [
    "1) Definite Iteration : When we know the number of iterations\n",
    "2) InDefinite Iteration : When we don't know number of iterations"
   ]
  },
  {
   "cell_type": "markdown",
   "id": "76f8d18d",
   "metadata": {},
   "source": [
    "This methodology is called Looping Statements "
   ]
  },
  {
   "cell_type": "markdown",
   "id": "05d61c7e",
   "metadata": {},
   "source": [
    "#### For Loop"
   ]
  },
  {
   "cell_type": "markdown",
   "id": "ee7e1aab",
   "metadata": {},
   "source": [
    "for loops to take iterators and also used to access based on indexes"
   ]
  },
  {
   "cell_type": "code",
   "execution_count": 7,
   "id": "d943522c",
   "metadata": {},
   "outputs": [
    {
     "name": "stdout",
     "output_type": "stream",
     "text": [
      "Time to Lead\n",
      "T\n",
      "i\n",
      "m\n",
      "e\n",
      " \n",
      "t\n",
      "o\n",
      " \n",
      "L\n",
      "e\n",
      "a\n",
      "d\n"
     ]
    }
   ],
   "source": [
    "sentence = \"Time to Lead\"\n",
    "print(sentence)\n",
    "for char in sentence:\n",
    "    print(char)"
   ]
  },
  {
   "cell_type": "code",
   "execution_count": 8,
   "id": "f515689a",
   "metadata": {},
   "outputs": [],
   "source": [
    "# range function(start,end,step)"
   ]
  },
  {
   "cell_type": "markdown",
   "id": "64d7710b",
   "metadata": {},
   "source": [
    "range() function gets sequence of numbers from start to end - 1 with step\n",
    "1) default value of start is zero\n",
    "2) step is nothing value which is going to add to give next value until end - 1 reaches"
   ]
  },
  {
   "cell_type": "code",
   "execution_count": 9,
   "id": "862e41b1",
   "metadata": {},
   "outputs": [
    {
     "name": "stdout",
     "output_type": "stream",
     "text": [
      "0\n",
      "1\n",
      "2\n",
      "3\n",
      "4\n"
     ]
    }
   ],
   "source": [
    "# range(end) which from 0 to end - 1\n",
    "for i in range(5):\n",
    "    print(i)"
   ]
  },
  {
   "cell_type": "code",
   "execution_count": 10,
   "id": "b9d702d2",
   "metadata": {},
   "outputs": [
    {
     "name": "stdout",
     "output_type": "stream",
     "text": [
      "3\n",
      "4\n",
      "5\n",
      "6\n"
     ]
    }
   ],
   "source": [
    "# range(start,end) from start to end - 1\n",
    "for i in range(3,7):\n",
    "    print(i)"
   ]
  },
  {
   "cell_type": "code",
   "execution_count": 11,
   "id": "ae6dbfc0",
   "metadata": {},
   "outputs": [
    {
     "name": "stdout",
     "output_type": "stream",
     "text": [
      "1\n",
      "4\n"
     ]
    }
   ],
   "source": [
    "# range(start,end,step) \n",
    "for i in range(1,7,3):\n",
    "    print(i)"
   ]
  },
  {
   "cell_type": "code",
   "execution_count": 15,
   "id": "2a247704",
   "metadata": {},
   "outputs": [
    {
     "name": "stdout",
     "output_type": "stream",
     "text": [
      "7\n",
      "6\n",
      "5\n",
      "4\n"
     ]
    }
   ],
   "source": [
    "# decreasing step \n",
    "for i in range(7,3,-1):\n",
    "    print(i)"
   ]
  },
  {
   "cell_type": "code",
   "execution_count": 17,
   "id": "8780bf42",
   "metadata": {},
   "outputs": [
    {
     "name": "stdout",
     "output_type": "stream",
     "text": [
      "You are allow to ride a bike\n"
     ]
    }
   ],
   "source": [
    "# nested if else ,elif \n",
    "age = int(input(\"Enter Your age : \"))\n",
    "licenseApproved =  input(\"Enter Yes / No\")\n",
    "if age >= 18:\n",
    "    if licenseApproved == \"Yes\":\n",
    "        print(\"You are allow to ride a bike\")\n",
    "    else:\n",
    "        print(\"Please apply license\")\n",
    "else :\n",
    "    print(\"It is against law for driving vehicle\")"
   ]
  },
  {
   "cell_type": "code",
   "execution_count": null,
   "id": "dd3c7d70",
   "metadata": {},
   "outputs": [
    {
     "name": "stdout",
     "output_type": "stream",
     "text": [
      "2\n",
      "3\n",
      "5\n",
      "7\n",
      "11\n",
      "13\n",
      "17\n",
      "19\n",
      "23\n",
      "29\n",
      "31\n",
      "37\n",
      "41\n",
      "43\n",
      "47\n",
      "53\n",
      "59\n",
      "61\n",
      "67\n",
      "71\n",
      "73\n",
      "79\n",
      "83\n",
      "89\n",
      "97\n"
     ]
    }
   ],
   "source": [
    "# nested for loop (simple python program for prime number from 1 to 100)\n",
    "for i in range(1,101):\n",
    "    cnt = 0\n",
    "    for j in range(1,i+1):\n",
    "        if i % j == 0:\n",
    "            cnt+=1\n",
    "    if cnt == 2:\n",
    "        print(i)\n",
    "    "
   ]
  },
  {
   "cell_type": "markdown",
   "id": "91afea62",
   "metadata": {},
   "source": [
    "###  While Loop"
   ]
  },
  {
   "cell_type": "markdown",
   "id": "efce2cc5",
   "metadata": {},
   "source": [
    "While Loop executes numerous times of iterations until the condition gets satisfied"
   ]
  },
  {
   "cell_type": "code",
   "execution_count": 19,
   "id": "e259080a",
   "metadata": {},
   "outputs": [
    {
     "name": "stdout",
     "output_type": "stream",
     "text": [
      "0\n",
      "1\n",
      "2\n",
      "3\n",
      "4\n"
     ]
    }
   ],
   "source": [
    "#  while loop \n",
    "i = 0\n",
    "while i < 5:\n",
    "    print(i)\n",
    "    i+=1\n"
   ]
  },
  {
   "cell_type": "code",
   "execution_count": null,
   "id": "801407bc",
   "metadata": {},
   "outputs": [],
   "source": [
    "#infinite loop\n",
    "while True:\n",
    "    pass "
   ]
  },
  {
   "cell_type": "markdown",
   "id": "aac267ce",
   "metadata": {},
   "source": [
    "1) Break Statement : Used to terminate the loop\n",
    "2) Continue Statement: Used to Proceed next iteration\n",
    "3) Pass Statement : When no conditon occurs in loop"
   ]
  },
  {
   "cell_type": "code",
   "execution_count": 1,
   "id": "d048e310",
   "metadata": {},
   "outputs": [],
   "source": [
    "i = 0\n",
    "while True:\n",
    "    if i == 5:\n",
    "        break \n",
    "    i+=1"
   ]
  },
  {
   "cell_type": "code",
   "execution_count": 3,
   "id": "4e400edc",
   "metadata": {},
   "outputs": [
    {
     "name": "stdout",
     "output_type": "stream",
     "text": [
      "1\n",
      "3\n",
      "5\n"
     ]
    }
   ],
   "source": [
    "# print the odd numbers from 0 to 5\n",
    "for i in range(6):\n",
    "    if i % 2 == 0:\n",
    "        continue\n",
    "    print(i)"
   ]
  },
  {
   "cell_type": "code",
   "execution_count": 6,
   "id": "fbd041b6",
   "metadata": {},
   "outputs": [],
   "source": [
    "for i in range(5):\n",
    "    pass"
   ]
  },
  {
   "cell_type": "markdown",
   "id": "5847c346",
   "metadata": {},
   "source": [
    "### Functions "
   ]
  },
  {
   "cell_type": "markdown",
   "id": "16b04b37",
   "metadata": {},
   "source": [
    "Functions are block of code to peform specific instruction"
   ]
  },
  {
   "cell_type": "markdown",
   "id": "84ad995b",
   "metadata": {},
   "source": [
    "#### Declare a Function using def keyword"
   ]
  },
  {
   "cell_type": "code",
   "execution_count": 7,
   "id": "c0b30f0a",
   "metadata": {},
   "outputs": [
    {
     "data": {
      "text/plain": [
       "True"
      ]
     },
     "execution_count": 7,
     "metadata": {},
     "output_type": "execute_result"
    }
   ],
   "source": [
    "# check even or not \n",
    "def isEven(num:int):\n",
    "    return True if num % 2 == 0 else False \n",
    "isEven(2)"
   ]
  },
  {
   "cell_type": "code",
   "execution_count": 8,
   "id": "629c608b",
   "metadata": {},
   "outputs": [
    {
     "data": {
      "text/plain": [
       "False"
      ]
     },
     "execution_count": 8,
     "metadata": {},
     "output_type": "execute_result"
    }
   ],
   "source": [
    "isEven(5)"
   ]
  },
  {
   "cell_type": "markdown",
   "id": "4664dffb",
   "metadata": {},
   "source": [
    "Invoking Function : Functions are invoked by calling parameters and function name"
   ]
  },
  {
   "cell_type": "markdown",
   "id": "2f6548d3",
   "metadata": {},
   "source": [
    "Parameters : aliases for values passed to function \n"
   ]
  },
  {
   "cell_type": "markdown",
   "id": "23fa6738",
   "metadata": {},
   "source": [
    "Return Statement : Function every returns value if not then default value is None"
   ]
  },
  {
   "cell_type": "markdown",
   "id": "ca4811b3",
   "metadata": {},
   "source": [
    "Arguments : values are passed to function"
   ]
  },
  {
   "cell_type": "markdown",
   "id": "837ab090",
   "metadata": {},
   "source": [
    "#### Type of Arguments \n",
    "1) Positional Arguments : Associate Arguments from left to right position (Not Keyword Arguments)\n",
    "2) Named Arguments : passing the name of specific arguments you want to control the order of calling (Keyword Arguments)\n",
    "3) help() function helps to tell functional arguments by name"
   ]
  },
  {
   "cell_type": "code",
   "execution_count": 9,
   "id": "76949dfa",
   "metadata": {},
   "outputs": [
    {
     "data": {
      "text/plain": [
       "6"
      ]
     },
     "execution_count": 9,
     "metadata": {},
     "output_type": "execute_result"
    }
   ],
   "source": [
    "def add(a,b,c):\n",
    "    return a + b + c\n",
    "add(1,2,3)"
   ]
  },
  {
   "cell_type": "markdown",
   "id": "029b9885",
   "metadata": {},
   "source": [
    "Functional Decomposition: Process of Dividing Complex tasks into smaller or simpler task"
   ]
  },
  {
   "cell_type": "code",
   "execution_count": 10,
   "id": "4035cb93",
   "metadata": {},
   "outputs": [],
   "source": [
    "def get_product(name,price,quantity):\n",
    "    print(\"Name: \",name)\n",
    "    print(\"Price: \",price)\n",
    "    print(\"Quantity :\",quantity)"
   ]
  },
  {
   "cell_type": "code",
   "execution_count": 11,
   "id": "99054e1d",
   "metadata": {},
   "outputs": [
    {
     "name": "stdout",
     "output_type": "stream",
     "text": [
      "Name:  soaps\n",
      "Price:  1000\n",
      "Quantity : 10\n"
     ]
    }
   ],
   "source": [
    "get_product(\"soaps\",1000,10)"
   ]
  },
  {
   "cell_type": "code",
   "execution_count": 12,
   "id": "f9ca1498",
   "metadata": {},
   "outputs": [
    {
     "name": "stdout",
     "output_type": "stream",
     "text": [
      "Name:  Jam\n",
      "Price:  1000\n",
      "Quantity : 12\n"
     ]
    }
   ],
   "source": [
    "get_product(price=1000,name=\"Jam\",quantity=12)"
   ]
  },
  {
   "cell_type": "markdown",
   "id": "8d667ac5",
   "metadata": {},
   "source": [
    "Invoking Function : Process of starting or executing function"
   ]
  },
  {
   "cell_type": "markdown",
   "id": "6dc73a3a",
   "metadata": {},
   "source": [
    "Built in Function : It is already available to user"
   ]
  },
  {
   "cell_type": "code",
   "execution_count": 13,
   "id": "980447e0",
   "metadata": {},
   "outputs": [
    {
     "name": "stdout",
     "output_type": "stream",
     "text": [
      "Hello\n"
     ]
    }
   ],
   "source": [
    "print(\"Hello\")"
   ]
  },
  {
   "cell_type": "code",
   "execution_count": null,
   "id": "d906190c",
   "metadata": {},
   "outputs": [],
   "source": []
  }
 ],
 "metadata": {
  "kernelspec": {
   "display_name": "Python 3",
   "language": "python",
   "name": "python3"
  },
  "language_info": {
   "codemirror_mode": {
    "name": "ipython",
    "version": 3
   },
   "file_extension": ".py",
   "mimetype": "text/x-python",
   "name": "python",
   "nbconvert_exporter": "python",
   "pygments_lexer": "ipython3",
   "version": "3.12.5"
  }
 },
 "nbformat": 4,
 "nbformat_minor": 5
}
