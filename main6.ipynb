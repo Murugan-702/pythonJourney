{
 "cells": [
  {
   "cell_type": "markdown",
   "id": "285665f1-70b0-4205-a262-e7065a5f61c7",
   "metadata": {},
   "source": [
    "## Python Programming Part 2\n",
    "## Lesson 1 Tuples and Identity Testing\n",
    "Tuples are the immutable data type which does not change once declared"
   ]
  },
  {
   "cell_type": "code",
   "execution_count": 1,
   "id": "d1acb644-2f21-45e8-8380-029fe5f48bbb",
   "metadata": {},
   "outputs": [
    {
     "name": "stdout",
     "output_type": "stream",
     "text": [
      "()\n"
     ]
    }
   ],
   "source": [
    "# Creating Empty Tuple\n",
    "empty_tuple = ()\n",
    "print(empty_tuple)"
   ]
  },
  {
   "cell_type": "code",
   "execution_count": 2,
   "id": "5d3c7c07-1c6a-43b1-8e2f-5ab87b127ee6",
   "metadata": {},
   "outputs": [
    {
     "name": "stdout",
     "output_type": "stream",
     "text": [
      "<class 'str'>\n"
     ]
    }
   ],
   "source": [
    "# Tuple Creation  MisManage \n",
    "not_tuple = ('cat')\n",
    "print(type(not_tuple)) # print type of tuple \n"
   ]
  },
  {
   "cell_type": "markdown",
   "id": "b7d14916-564c-4b65-9f2c-b778a60705c2",
   "metadata": {},
   "source": [
    "Tuples does not depends on parethensis it depends on commas (,)|"
   ]
  },
  {
   "cell_type": "code",
   "execution_count": 3,
   "id": "360216f2-3b7e-4677-83f7-c8a88ed9bafc",
   "metadata": {},
   "outputs": [
    {
     "name": "stdout",
     "output_type": "stream",
     "text": [
      "<class 'tuple'>\n"
     ]
    }
   ],
   "source": [
    "# singleton tuple\n",
    "real_tuple = (\"cat\",)\n",
    "print(type(real_tuple))"
   ]
  },
  {
   "cell_type": "code",
   "execution_count": 4,
   "id": "5dce23b3-95be-4fed-bf49-12d3e075661f",
   "metadata": {},
   "outputs": [
    {
     "name": "stdout",
     "output_type": "stream",
     "text": [
      "<class 'tuple'>\n"
     ]
    }
   ],
   "source": [
    "# tuple Creation by commas\n",
    "WeekEndDay = 'Saturday','Sunday'\n",
    "print(type(WeekEndDay))"
   ]
  },
  {
   "cell_type": "markdown",
   "id": "74985441-8d6a-4bac-a9e7-2de6b0e9869f",
   "metadata": {},
   "source": [
    "#### tuple() function helps to make other data types to tuples"
   ]
  },
  {
   "cell_type": "code",
   "execution_count": 5,
   "id": "451346f3-76b4-457e-a639-aef4cda776e6",
   "metadata": {},
   "outputs": [
    {
     "name": "stdout",
     "output_type": "stream",
     "text": [
      "(1, 2, 3)\n"
     ]
    }
   ],
   "source": [
    "# tuple from lists \n",
    "num_tuple = tuple([1,2,3])\n",
    "print(num_tuple)"
   ]
  },
  {
   "cell_type": "code",
   "execution_count": 6,
   "id": "99822940-a99d-417e-b7c9-a46f5d54165f",
   "metadata": {},
   "outputs": [
    {
     "name": "stdout",
     "output_type": "stream",
     "text": [
      "('C', 'e', 'a', 's', 'e', 'r', ' ', 's', 'm', 'i', 't', 'h')\n"
     ]
    }
   ],
   "source": [
    "# tuple from strings \n",
    "name = \"Ceaser smith\"\n",
    "print(tuple(name))"
   ]
  },
  {
   "cell_type": "markdown",
   "id": "6eaa5510-f66b-431c-b1ab-2e48e343265b",
   "metadata": {},
   "source": [
    "### Both Lists and Tuples are ordered you can expect the order in insertion\n",
    "### Both Lists and Tuples can have duplicate values and different data types"
   ]
  },
  {
   "cell_type": "markdown",
   "id": "55a18dbc-b633-4a84-b355-d4ebb64e0f6c",
   "metadata": {},
   "source": [
    "#### It Supports indexing\n",
    "#### It can lead to tuple error"
   ]
  },
  {
   "cell_type": "code",
   "execution_count": 7,
   "id": "d1daf21c-945d-43b5-a7e1-7932406423fd",
   "metadata": {},
   "outputs": [
    {
     "data": {
      "text/plain": [
       "'banana'"
      ]
     },
     "execution_count": 7,
     "metadata": {},
     "output_type": "execute_result"
    }
   ],
   "source": [
    "fruits = ('banana','grapes','apple')\n",
    "fruits[0]"
   ]
  },
  {
   "cell_type": "code",
   "execution_count": 8,
   "id": "c99ea9ab-0f8b-4e0f-9c55-c7d50e44d80e",
   "metadata": {},
   "outputs": [
    {
     "ename": "IndexError",
     "evalue": "tuple index out of range",
     "output_type": "error",
     "traceback": [
      "\u001b[1;31m---------------------------------------------------------------------------\u001b[0m",
      "\u001b[1;31mIndexError\u001b[0m                                Traceback (most recent call last)",
      "Cell \u001b[1;32mIn[8], line 3\u001b[0m\n\u001b[0;32m      1\u001b[0m \u001b[38;5;66;03m# Index Error leads index out of range\u001b[39;00m\n\u001b[0;32m      2\u001b[0m fruits \u001b[38;5;241m=\u001b[39m (\u001b[38;5;124m'\u001b[39m\u001b[38;5;124mapples\u001b[39m\u001b[38;5;124m'\u001b[39m,\u001b[38;5;124m'\u001b[39m\u001b[38;5;124moranges\u001b[39m\u001b[38;5;124m'\u001b[39m,\u001b[38;5;124m'\u001b[39m\u001b[38;5;124mbanana\u001b[39m\u001b[38;5;124m'\u001b[39m)\n\u001b[1;32m----> 3\u001b[0m \u001b[43mfruits\u001b[49m\u001b[43m[\u001b[49m\u001b[38;5;241;43m3\u001b[39;49m\u001b[43m]\u001b[49m\n",
      "\u001b[1;31mIndexError\u001b[0m: tuple index out of range"
     ]
    }
   ],
   "source": [
    "# Index Error leads index out of range\n",
    "fruits = ('apples','oranges','banana')\n",
    "fruits[3]"
   ]
  },
  {
   "cell_type": "code",
   "execution_count": 9,
   "id": "56c908ee-ac65-480f-83db-deb4c9aebdb8",
   "metadata": {},
   "outputs": [
    {
     "ename": "TypeError",
     "evalue": "'tuple' object does not support item assignment",
     "output_type": "error",
     "traceback": [
      "\u001b[1;31m---------------------------------------------------------------------------\u001b[0m",
      "\u001b[1;31mTypeError\u001b[0m                                 Traceback (most recent call last)",
      "Cell \u001b[1;32mIn[9], line 3\u001b[0m\n\u001b[0;32m      1\u001b[0m \u001b[38;5;66;03m# Type Error (Tuple does not item assignment)\u001b[39;00m\n\u001b[0;32m      2\u001b[0m val \u001b[38;5;241m=\u001b[39m (\u001b[38;5;241m1\u001b[39m,\u001b[38;5;241m2\u001b[39m,\u001b[38;5;241m3\u001b[39m)\n\u001b[1;32m----> 3\u001b[0m \u001b[43mval\u001b[49m\u001b[43m[\u001b[49m\u001b[38;5;241;43m0\u001b[39;49m\u001b[43m]\u001b[49m \u001b[38;5;241m=\u001b[39m \u001b[38;5;241m300\u001b[39m\n\u001b[0;32m      4\u001b[0m val\n",
      "\u001b[1;31mTypeError\u001b[0m: 'tuple' object does not support item assignment"
     ]
    }
   ],
   "source": [
    "# Type Error (Tuple does not item assignment)\n",
    "val = (1,2,3)\n",
    "val[0] = 300\n",
    "val"
   ]
  },
  {
   "cell_type": "markdown",
   "id": "d514403d-85f6-47ba-9ebb-30c58eadd296",
   "metadata": {},
   "source": [
    "### Tuples are memory efficient  fatser than lists when working with huge amount of data\n",
    "### It is impossible to change the tuple to prevent accidental failues"
   ]
  },
  {
   "cell_type": "markdown",
   "id": "afbe2af7-753a-4007-8b37-325fc062fef3",
   "metadata": {},
   "source": [
    "## Tuple Slciing"
   ]
  },
  {
   "cell_type": "code",
   "execution_count": 10,
   "id": "5a6397ef-133b-4695-ac5e-9e79c0c6d15c",
   "metadata": {},
   "outputs": [
    {
     "name": "stdout",
     "output_type": "stream",
     "text": [
      "(1, 2, 3, 4, 5, 6, 7, 8)\n",
      "(2, 3, 4, 5, 6, 7, 8)\n",
      "(1, 2, 3, 4, 5)\n",
      "(4, 5, 6, 7)\n"
     ]
    }
   ],
   "source": [
    "ans = (1,2,3,4,5,6,7,8)\n",
    "#[::]\n",
    "print(ans[::])\n",
    "# start\n",
    "print(ans[1:])\n",
    "# end \n",
    "print(ans[:5])\n",
    "# start ,end \n",
    "print(ans[3:7])\n"
   ]
  },
  {
   "cell_type": "code",
   "execution_count": 11,
   "id": "95221370-2486-41ad-9fd1-9a4772fa2b34",
   "metadata": {},
   "outputs": [
    {
     "name": "stdout",
     "output_type": "stream",
     "text": [
      "(1, 3, 5, 7)\n",
      "(2, 4, 6, 8)\n",
      "(1, 3, 5)\n",
      "(4, 6)\n"
     ]
    }
   ],
   "source": [
    "# positive step \n",
    "ans = (1,2,3,4,5,6,7,8)\n",
    "#[::]\n",
    "print(ans[::2])\n",
    "# start\n",
    "print(ans[1::2])\n",
    "# end \n",
    "print(ans[:5:2])\n",
    "# start ,end \n",
    "print(ans[3:7:2])\n",
    "\n"
   ]
  },
  {
   "cell_type": "code",
   "execution_count": 12,
   "id": "7c59e38c-eae3-4717-b1e1-ff208b4e1f79",
   "metadata": {},
   "outputs": [
    {
     "name": "stdout",
     "output_type": "stream",
     "text": [
      "(8, 7, 6, 5, 4, 3, 2, 1)\n",
      "(2, 1)\n",
      "(8, 7)\n",
      "(8, 7, 6, 5)\n"
     ]
    }
   ],
   "source": [
    "# negative step \n",
    "ans = (1,2,3,4,5,6,7,8)\n",
    "#[::]\n",
    "print(ans[::-1])\n",
    "# start\n",
    "print(ans[1::-1])\n",
    "# end \n",
    "print(ans[:5:-1])\n",
    "# start ,end \n",
    "print(ans[7:3:-1])\n",
    "\n"
   ]
  },
  {
   "cell_type": "markdown",
   "id": "1b904081-377e-45ce-805f-3afed6802a40",
   "metadata": {},
   "source": [
    "# Operation of Tuples"
   ]
  },
  {
   "cell_type": "code",
   "execution_count": 13,
   "id": "e815895f-2d1b-4da0-8c6f-0c95658bd468",
   "metadata": {},
   "outputs": [
    {
     "name": "stdout",
     "output_type": "stream",
     "text": [
      "(1, 2, 3, 2.3, 4.5, 6.6, 1, 2, 3)\n"
     ]
    }
   ],
   "source": [
    "# add one or more tuples \n",
    "t1 = (1,2,3)\n",
    "t2 = (2.3,4.5,6.6)\n",
    "t3 = (1 , 2, 3)\n",
    "t = t1 + t2 + t3\n",
    "print(t)"
   ]
  },
  {
   "cell_type": "code",
   "execution_count": 14,
   "id": "3c6dc7a6-9a46-4804-acf5-56a0f2516d75",
   "metadata": {},
   "outputs": [
    {
     "name": "stdout",
     "output_type": "stream",
     "text": [
      "(1, 2, 3, 1, 2, 3, 1, 2, 3)\n"
     ]
    }
   ],
   "source": [
    "# multiply tuples by number like a list\n",
    "tu = (1, 2, 3) * 3\n",
    "print(tu)"
   ]
  },
  {
   "cell_type": "code",
   "execution_count": 15,
   "id": "08a77dd2-f91a-4264-ae02-609d16be4ccc",
   "metadata": {},
   "outputs": [
    {
     "name": "stdout",
     "output_type": "stream",
     "text": [
      "(1, 2, 3, 4, 5)\n",
      "3\n"
     ]
    }
   ],
   "source": [
    "# index method - > Beware value not present Value Error\n",
    "tu  = (1,2,3,4,5)\n",
    "print(tu)\n",
    "print(tu.index(4))"
   ]
  },
  {
   "cell_type": "code",
   "execution_count": 16,
   "id": "148e6cb4-970a-4857-a71c-a6d130c43dc2",
   "metadata": {},
   "outputs": [
    {
     "ename": "ValueError",
     "evalue": "tuple.index(x): x not in tuple",
     "output_type": "error",
     "traceback": [
      "\u001b[1;31m---------------------------------------------------------------------------\u001b[0m",
      "\u001b[1;31mValueError\u001b[0m                                Traceback (most recent call last)",
      "Cell \u001b[1;32mIn[16], line 2\u001b[0m\n\u001b[0;32m      1\u001b[0m tu \u001b[38;5;241m=\u001b[39m (\u001b[38;5;241m1\u001b[39m,\u001b[38;5;241m2\u001b[39m,\u001b[38;5;241m3\u001b[39m) \n\u001b[1;32m----> 2\u001b[0m \u001b[43mtu\u001b[49m\u001b[38;5;241;43m.\u001b[39;49m\u001b[43mindex\u001b[49m\u001b[43m(\u001b[49m\u001b[38;5;241;43m4\u001b[39;49m\u001b[43m)\u001b[49m \u001b[38;5;66;03m# raises value error\u001b[39;00m\n",
      "\u001b[1;31mValueError\u001b[0m: tuple.index(x): x not in tuple"
     ]
    }
   ],
   "source": [
    "tu = (1,2,3) \n",
    "tu.index(4) # raises value error"
   ]
  },
  {
   "cell_type": "markdown",
   "id": "0e46fb7d-9b9c-4455-8529-7e616f42d6ca",
   "metadata": {},
   "source": [
    "### in and not in  -> check whether the value is present or not|"
   ]
  },
  {
   "cell_type": "code",
   "execution_count": 17,
   "id": "ce2149b3-e8e2-4a48-95cb-974c76658b36",
   "metadata": {},
   "outputs": [
    {
     "data": {
      "text/plain": [
       "True"
      ]
     },
     "execution_count": 17,
     "metadata": {},
     "output_type": "execute_result"
    }
   ],
   "source": [
    "fruits = ('apples','oranges','grapes')\n",
    "\"apples\" in fruits"
   ]
  },
  {
   "cell_type": "code",
   "execution_count": 18,
   "id": "dfae043f-bfe4-49f8-bed4-63629c5f5798",
   "metadata": {},
   "outputs": [
    {
     "data": {
      "text/plain": [
       "True"
      ]
     },
     "execution_count": 18,
     "metadata": {},
     "output_type": "execute_result"
    }
   ],
   "source": [
    "players = ('Jack','Tyson','Max')\n",
    "'King' not in players"
   ]
  },
  {
   "cell_type": "markdown",
   "id": "68e924c2-f10c-4cc4-88ad-b2544ee4ad9d",
   "metadata": {},
   "source": [
    "## Both Lists and Tuples are iterable and are enumerated"
   ]
  },
  {
   "cell_type": "code",
   "execution_count": 19,
   "id": "3d16d931-291c-41a3-bea3-418ce0ddeba3",
   "metadata": {},
   "outputs": [
    {
     "name": "stdout",
     "output_type": "stream",
     "text": [
      "0\n",
      "1\n",
      "2\n",
      "3\n",
      "4\n",
      "5\n",
      "6\n",
      "7\n",
      "8\n",
      "9\n",
      "10\n",
      "11\n",
      "12\n",
      "13\n",
      "14\n",
      "15\n",
      "16\n",
      "17\n",
      "18\n",
      "19\n"
     ]
    }
   ],
   "source": [
    "numbers =  tuple([i for i in range(20)])\n",
    "for num in numbers:\n",
    "    print(num)"
   ]
  },
  {
   "cell_type": "code",
   "execution_count": 20,
   "id": "ba94e58e-6db5-4ad0-a461-5662bc415468",
   "metadata": {},
   "outputs": [
    {
     "name": "stdout",
     "output_type": "stream",
     "text": [
      "index =  0  val =  0\n",
      "index =  1  val =  1\n",
      "index =  2  val =  4\n",
      "index =  3  val =  9\n",
      "index =  4  val =  16\n",
      "index =  5  val =  25\n",
      "index =  6  val =  36\n",
      "index =  7  val =  49\n",
      "index =  8  val =  64\n",
      "index =  9  val =  81\n",
      "index =  10  val =  100\n",
      "index =  11  val =  121\n",
      "index =  12  val =  144\n",
      "index =  13  val =  169\n",
      "index =  14  val =  196\n",
      "index =  15  val =  225\n",
      "index =  16  val =  256\n",
      "index =  17  val =  289\n",
      "index =  18  val =  324\n",
      "index =  19  val =  361\n"
     ]
    }
   ],
   "source": [
    "numbers =  tuple([int(i**2) for i in range(20)])\n",
    "for index,num in enumerate(numbers):\n",
    "    print(\"index = \",index,\" val = \",num)"
   ]
  },
  {
   "cell_type": "code",
   "execution_count": 21,
   "id": "367b83fb-3078-4b1a-ba4d-6b807e7582e6",
   "metadata": {},
   "outputs": [
    {
     "data": {
      "text/plain": [
       "(1, [2, 3], 4, 'name')"
      ]
     },
     "execution_count": 21,
     "metadata": {},
     "output_type": "execute_result"
    }
   ],
   "source": [
    "# Like Lists tuples can also have data type (any) in them \n",
    "# nested tupe\n",
    "nested_tuple = (1,[2,3],4,'name')\n",
    "nested_tuple"
   ]
  },
  {
   "cell_type": "markdown",
   "id": "6f754438-df54-4d5a-bead-cbed14a12605",
   "metadata": {},
   "source": [
    "### Unpacking and Swapping Values \n",
    "1) Unpacking the values from tuples as they are unchanged of different data type\n",
    "2) In most Programming languages we need temproary varible for swapping python deos not need it"
   ]
  },
  {
   "cell_type": "code",
   "execution_count": 22,
   "id": "4eb877d3-988b-422d-8883-52efcba7c72c",
   "metadata": {},
   "outputs": [
    {
     "name": "stdout",
     "output_type": "stream",
     "text": [
      "('author', '12:03:2005', 'He inspired peoples')\n"
     ]
    }
   ],
   "source": [
    "# Unpacking\n",
    "biography = (\"author\",\"12:03:2005\",\"He inspired peoples\")\n",
    "name , birth_date , whatHeDid = biography\n",
    "print(biography)"
   ]
  },
  {
   "cell_type": "code",
   "execution_count": 23,
   "id": "93e5b5a0-a07d-4a09-a3c1-566559a0d4c6",
   "metadata": {},
   "outputs": [
    {
     "ename": "ValueError",
     "evalue": "not enough values to unpack (expected 3, got 2)",
     "output_type": "error",
     "traceback": [
      "\u001b[1;31m---------------------------------------------------------------------------\u001b[0m",
      "\u001b[1;31mValueError\u001b[0m                                Traceback (most recent call last)",
      "Cell \u001b[1;32mIn[23], line 3\u001b[0m\n\u001b[0;32m      1\u001b[0m \u001b[38;5;66;03m# Unpacking mistakes (more variables expected 3 got 2)\u001b[39;00m\n\u001b[0;32m      2\u001b[0m lessons \u001b[38;5;241m=\u001b[39m (\u001b[38;5;124m'\u001b[39m\u001b[38;5;124mlesson1\u001b[39m\u001b[38;5;124m'\u001b[39m,\u001b[38;5;124m'\u001b[39m\u001b[38;5;124mlesson2\u001b[39m\u001b[38;5;124m'\u001b[39m)\n\u001b[1;32m----> 3\u001b[0m lesson1, lesson2 , lesson3 \u001b[38;5;241m=\u001b[39m lessons\n",
      "\u001b[1;31mValueError\u001b[0m: not enough values to unpack (expected 3, got 2)"
     ]
    }
   ],
   "source": [
    "# Unpacking mistakes (more variables expected 3 got 2)\n",
    "lessons = ('lesson1','lesson2')\n",
    "lesson1, lesson2 , lesson3 = lessons"
   ]
  },
  {
   "cell_type": "code",
   "execution_count": 24,
   "id": "81d4880c-8053-4ec3-abee-e658d1d7885f",
   "metadata": {},
   "outputs": [
    {
     "ename": "ValueError",
     "evalue": "too many values to unpack (expected 2)",
     "output_type": "error",
     "traceback": [
      "\u001b[1;31m---------------------------------------------------------------------------\u001b[0m",
      "\u001b[1;31mValueError\u001b[0m                                Traceback (most recent call last)",
      "Cell \u001b[1;32mIn[24], line 3\u001b[0m\n\u001b[0;32m      1\u001b[0m \u001b[38;5;66;03m# Unpacking Mistakes  (too many values to unpack)\u001b[39;00m\n\u001b[0;32m      2\u001b[0m fruits \u001b[38;5;241m=\u001b[39m (\u001b[38;5;124m\"\u001b[39m\u001b[38;5;124mapples\u001b[39m\u001b[38;5;124m\"\u001b[39m,\u001b[38;5;124m\"\u001b[39m\u001b[38;5;124moranges\u001b[39m\u001b[38;5;124m\"\u001b[39m,\u001b[38;5;124m\"\u001b[39m\u001b[38;5;124mgrapes\u001b[39m\u001b[38;5;124m\"\u001b[39m)\n\u001b[1;32m----> 3\u001b[0m apples , oranges \u001b[38;5;241m=\u001b[39m fruits\n",
      "\u001b[1;31mValueError\u001b[0m: too many values to unpack (expected 2)"
     ]
    }
   ],
   "source": [
    "# Unpacking Mistakes  (too many values to unpack)\n",
    "fruits = (\"apples\",\"oranges\",\"grapes\")\n",
    "apples , oranges = fruits"
   ]
  },
  {
   "cell_type": "code",
   "execution_count": 25,
   "id": "de07aed7-425a-40b3-86ff-832d6ea7e54d",
   "metadata": {},
   "outputs": [
    {
     "data": {
      "text/plain": [
       "['oranges', 'grapes']"
      ]
     },
     "execution_count": 25,
     "metadata": {},
     "output_type": "execute_result"
    }
   ],
   "source": [
    "# Correct the Unpacking Mistake (* operator)\n",
    "fruits = ('apples','oranges','grapes')\n",
    "apples , *otherFruits = fruits\n",
    "otherFruits"
   ]
  },
  {
   "cell_type": "code",
   "execution_count": 26,
   "id": "d8998349-4be2-4d69-abec-059e9d427224",
   "metadata": {},
   "outputs": [
    {
     "name": "stdout",
     "output_type": "stream",
     "text": [
      "a =  10\n",
      "b =  20\n",
      "a =  20\n",
      "b = 10\n"
     ]
    }
   ],
   "source": [
    "# Swapping\n",
    "a , b = 10 , 20\n",
    "print(\"a = \",a)\n",
    "print(\"b = \",b)\n",
    "a , b = b , a\n",
    "print(\"a = \",a)\n",
    "print(\"b =\",b)"
   ]
  },
  {
   "cell_type": "markdown",
   "id": "1fb93085-7f98-4799-a865-2b7b3000d7ba",
   "metadata": {},
   "source": [
    "1) Python Evaluates assignment starting from right hand side\n",
    "2) First the tuples b and a are created in memory\n",
    "3) Already Created Tuples are assigned to left hand side\n",
    "4) Now Tuples are unpacked then the identifier on a gets first value and\n",
    "   identifier b gets second value\n"
   ]
  },
  {
   "cell_type": "markdown",
   "id": "b88b5330-144d-43e4-a86e-645131f2ec1d",
   "metadata": {},
   "source": [
    "# Identity Testing \n",
    "# Equal Values in Python existing in many copies \n"
   ]
  },
  {
   "cell_type": "code",
   "execution_count": 27,
   "id": "7f5d416b-5e55-4349-8dcc-458780ee5214",
   "metadata": {},
   "outputs": [
    {
     "name": "stdout",
     "output_type": "stream",
     "text": [
      "lst 1 [1, 2, 3]\n",
      "lst 2 [1, 2, 3]\n",
      "lst 1 [300, 2, 3]\n",
      "lst 2  [1, 2, 3]\n",
      "lst 1 [300, 2, 3]\n",
      "lst 2 [500, 2, 3]\n"
     ]
    }
   ],
   "source": [
    "# example 1 copy function promotes in the list one value does not change the other\n",
    "lst1 = [1,2,3]\n",
    "lst2 = lst1.copy()\n",
    "print(\"lst 1\",lst1)\n",
    "print(\"lst 2\",lst2)\n",
    "lst1[0] = 300\n",
    "print(\"lst 1\",lst1)\n",
    "print(\"lst 2 \",lst2)\n",
    "lst2[0] = 500\n",
    "print(\"lst 1\",lst1)\n",
    "print(\"lst 2\",lst2)"
   ]
  },
  {
   "cell_type": "markdown",
   "id": "0ffd05f0-be59-4f5e-86f3-adf76e12ad0e",
   "metadata": {},
   "source": [
    "## Id Function and is operator and not is operator\n",
    "## Each Object in Python has some identity"
   ]
  },
  {
   "cell_type": "code",
   "execution_count": 28,
   "id": "f85bf74d-d651-40aa-bc3f-cdfd6b2d947d",
   "metadata": {},
   "outputs": [
    {
     "data": {
      "text/plain": [
       "True"
      ]
     },
     "execution_count": 28,
     "metadata": {},
     "output_type": "execute_result"
    }
   ],
   "source": [
    "a = [1,2,3]\n",
    "b = [1,2,3]\n",
    "a == b"
   ]
  },
  {
   "cell_type": "code",
   "execution_count": 29,
   "id": "3ff765af-7999-4ffd-89c8-4b3d5d28ca3e",
   "metadata": {},
   "outputs": [
    {
     "data": {
      "text/plain": [
       "False"
      ]
     },
     "execution_count": 29,
     "metadata": {},
     "output_type": "execute_result"
    }
   ],
   "source": [
    "a = [1,2,3]\n",
    "b = [1,2,3]\n",
    "a is b # they don't share same copy"
   ]
  },
  {
   "cell_type": "code",
   "execution_count": 30,
   "id": "d221871c-5379-4a1d-a91b-5a167a95754b",
   "metadata": {},
   "outputs": [
    {
     "data": {
      "text/plain": [
       "True"
      ]
     },
     "execution_count": 30,
     "metadata": {},
     "output_type": "execute_result"
    }
   ],
   "source": [
    "a = [1,2,3]\n",
    "b = a\n",
    "a is b # share same copy"
   ]
  },
  {
   "cell_type": "code",
   "execution_count": 31,
   "id": "e427bc78-20ee-4423-8461-34c976f3b837",
   "metadata": {},
   "outputs": [
    {
     "name": "stdout",
     "output_type": "stream",
     "text": [
      "[300, 2, 3]\n"
     ]
    }
   ],
   "source": [
    "a = [1 ,2 ,3]\n",
    "b = a\n",
    "b[0] = 300\n",
    "print(a) # when b chnages a also changes "
   ]
  },
  {
   "cell_type": "code",
   "execution_count": 32,
   "id": "f7b901e7-c493-4a6a-bc23-3e654934c4ff",
   "metadata": {},
   "outputs": [
    {
     "data": {
      "text/plain": [
       "True"
      ]
     },
     "execution_count": 32,
     "metadata": {},
     "output_type": "execute_result"
    }
   ],
   "source": [
    "a , b = 100 , 200\n",
    "a is not b"
   ]
  },
  {
   "cell_type": "code",
   "execution_count": 33,
   "id": "85f8da39-9d2d-4356-93ca-cad067a31f0e",
   "metadata": {},
   "outputs": [
    {
     "name": "stdout",
     "output_type": "stream",
     "text": [
      "2721881273360 2721881273776\n"
     ]
    }
   ],
   "source": [
    "# id function \n",
    "a = 1000\n",
    "b = 1000\n",
    "print(id(a),id(b))"
   ]
  },
  {
   "cell_type": "code",
   "execution_count": 34,
   "id": "1fb16c51-59bc-43a6-8671-1d6059c5bc08",
   "metadata": {},
   "outputs": [
    {
     "name": "stdin",
     "output_type": "stream",
     "text": [
      "Enter a:  20\n",
      "Enter b:  20\n"
     ]
    },
    {
     "name": "stdout",
     "output_type": "stream",
     "text": [
      "140706223688728 140706223688728\n"
     ]
    },
    {
     "data": {
      "text/plain": [
       "True"
      ]
     },
     "execution_count": 34,
     "metadata": {},
     "output_type": "execute_result"
    }
   ],
   "source": [
    "# Be Careful When taking inputs \n",
    "a = int(input(\"Enter a: \"))\n",
    "b = int(input(\"Enter b: \"))\n",
    "print(id(a),id(b))\n",
    "a is b"
   ]
  },
  {
   "cell_type": "markdown",
   "id": "7df7ce79-782c-42ce-b8fb-f3788cb562a5",
   "metadata": {},
   "source": [
    "Python allocates small digits and small strings same id depends on system weirdly ber careful"
   ]
  },
  {
   "cell_type": "code",
   "execution_count": 36,
   "id": "c711144d-14c6-43cb-a47a-ab7f51dd7e8b",
   "metadata": {},
   "outputs": [
    {
     "name": "stdin",
     "output_type": "stream",
     "text": [
      " a\n",
      " a\n"
     ]
    },
    {
     "data": {
      "text/plain": [
       "True"
      ]
     },
     "execution_count": 36,
     "metadata": {},
     "output_type": "execute_result"
    }
   ],
   "source": [
    "# small strings\n",
    "s1 = input()\n",
    "s2 = input()\n",
    "s1 is s2"
   ]
  },
  {
   "cell_type": "code",
   "execution_count": 37,
   "id": "3a49e7f8-77b5-44b0-ac94-27c9625d43a6",
   "metadata": {},
   "outputs": [
    {
     "name": "stdin",
     "output_type": "stream",
     "text": [
      " 1000\n",
      " 1000\n"
     ]
    },
    {
     "data": {
      "text/plain": [
       "False"
      ]
     },
     "execution_count": 37,
     "metadata": {},
     "output_type": "execute_result"
    }
   ],
   "source": [
    "# large integers id differs \n",
    "A  = int(input())\n",
    "B = int(input())\n",
    "A is B"
   ]
  },
  {
   "cell_type": "code",
   "execution_count": 38,
   "id": "433c0008-4a8f-4a03-af7a-ea7ac8f6c3e2",
   "metadata": {},
   "outputs": [
    {
     "data": {
      "text/plain": [
       "True"
      ]
     },
     "execution_count": 38,
     "metadata": {},
     "output_type": "execute_result"
    }
   ],
   "source": [
    "# commonly it is used to determine whether is None or not\n",
    "world = None\n",
    "world is None"
   ]
  },
  {
   "cell_type": "code",
   "execution_count": 39,
   "id": "99a7a2ce-44cd-4729-b3ef-0cf4a239ded0",
   "metadata": {},
   "outputs": [
    {
     "data": {
      "text/plain": [
       "False"
      ]
     },
     "execution_count": 39,
     "metadata": {},
     "output_type": "execute_result"
    }
   ],
   "source": [
    "world = \"\"\n",
    "world is None"
   ]
  },
  {
   "cell_type": "code",
   "execution_count": 1,
   "id": "77c560f2-5ea3-48a3-b2ab-4884c213786f",
   "metadata": {},
   "outputs": [],
   "source": [
    "# None is singlten none is used only once so we can use is keyword"
   ]
  },
  {
   "cell_type": "code",
   "execution_count": 2,
   "id": "0c355f38-7ffd-4a3f-adb4-3f167a407960",
   "metadata": {},
   "outputs": [
    {
     "data": {
      "text/plain": [
       "False"
      ]
     },
     "execution_count": 2,
     "metadata": {},
     "output_type": "execute_result"
    }
   ],
   "source": [
    "# EXAMPLE 1\n",
    "a = [1, 2, 3]\n",
    "b = a\n",
    "a = [1, 2, 3]\n",
    "a is b"
   ]
  },
  {
   "cell_type": "code",
   "execution_count": 3,
   "id": "31ffc3a2-1802-4423-8b8a-88e3e927da81",
   "metadata": {},
   "outputs": [
    {
     "data": {
      "text/plain": [
       "True"
      ]
     },
     "execution_count": 3,
     "metadata": {},
     "output_type": "execute_result"
    }
   ],
   "source": [
    "#example 2\n",
    "a = [ 2 , 3 ,9 ]\n",
    "b = a\n",
    "b[0] = 10\n",
    "c = b\n",
    "c is b"
   ]
  },
  {
   "cell_type": "code",
   "execution_count": 5,
   "id": "cf854ab6-bc51-423b-bf28-0272ec3cbe92",
   "metadata": {},
   "outputs": [
    {
     "name": "stdin",
     "output_type": "stream",
     "text": [
      " (()\n"
     ]
    },
    {
     "name": "stdout",
     "output_type": "stream",
     "text": [
      "ERROR\n"
     ]
    }
   ],
   "source": [
    "expression = input()\n",
    "def eval_expression(expression):\n",
    "    stack = []\n",
    "    for char in expression:\n",
    "        if char == '(':\n",
    "            stack.append(char)\n",
    "        elif char == ')':\n",
    "            if stack[-1] != '(':\n",
    "                return \"ERROR\"\n",
    "            stack.pop()\n",
    "    return \"OK\" if len(stack) == 0 else \"ERROR\"\n",
    "print(eval_expression(expression))"
   ]
  },
  {
   "cell_type": "code",
   "execution_count": null,
   "id": "36c29c30-1b84-4103-971c-5a466bf81d35",
   "metadata": {},
   "outputs": [],
   "source": []
  }
 ],
 "metadata": {
  "kernelspec": {
   "display_name": "Python 3 (ipykernel)",
   "language": "python",
   "name": "python3"
  },
  "language_info": {
   "codemirror_mode": {
    "name": "ipython",
    "version": 3
   },
   "file_extension": ".py",
   "mimetype": "text/x-python",
   "name": "python",
   "nbconvert_exporter": "python",
   "pygments_lexer": "ipython3",
   "version": "3.12.5"
  },
  "widgets": {
   "application/vnd.jupyter.widget-state+json": {
    "state": {},
    "version_major": 2,
    "version_minor": 0
   }
  }
 },
 "nbformat": 4,
 "nbformat_minor": 5
}
